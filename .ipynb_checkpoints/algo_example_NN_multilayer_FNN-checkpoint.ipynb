{
 "cells": [
  {
   "cell_type": "code",
   "execution_count": 6,
   "metadata": {
    "collapsed": false
   },
   "outputs": [],
   "source": [
    "import pandas as pd\n",
    "import numpy as np\n",
    "from random import randint\n",
    "from pandas import Series,DataFrame\n",
    "import seaborn as sns\n",
    "import matplotlib.pyplot as plt\n",
    "import matplotlib\n",
    "import math\n",
    "%matplotlib inline\n",
    "plt.rcParams['figure.figsize'] = (8, 6)\n",
    "plt.rcParams['font.size'] = 14"
   ]
  },
  {
   "cell_type": "code",
   "execution_count": 2,
   "metadata": {
    "collapsed": false
   },
   "outputs": [
    {
     "data": {
      "text/html": [
       "<style>\n",
       "table {float:left}\n",
       "</style>"
      ],
      "text/plain": [
       "<IPython.core.display.HTML object>"
      ]
     },
     "metadata": {},
     "output_type": "display_data"
    }
   ],
   "source": [
    "%%html\n",
    "<style>\n",
    "table {float:left}\n",
    "</style>"
   ]
  },
  {
   "cell_type": "markdown",
   "metadata": {},
   "source": [
    "Using the MNIST digit dataset.\n",
    "\n",
    "Source: http://yann.lecun.com/exdb/mnist/\n",
    "\n",
    "sklearn has nicely [imported](http://scikit-learn.org/stable/modules/generated/sklearn.datasets.load_digits.html#sklearn.datasets.load_digits) it for us.\n",
    "\n",
    "| Classes           | 10            |\n",
    "|-------------------|---------------|\n",
    "| Samples per class | ~180          |\n",
    "| Samples total     | 1797          |\n",
    "| Dimensionality    | 64            |\n",
    "| Features          | integers 0-16 |"
   ]
  },
  {
   "cell_type": "code",
   "execution_count": 10,
   "metadata": {
    "collapsed": false
   },
   "outputs": [
    {
     "name": "stdout",
     "output_type": "stream",
     "text": [
      "<class 'sklearn.datasets.base.Bunch'>\n",
      "[1102, 301, 548, 13, 30, 1132, 512, 1036, 1238, 199, 1718, 798]\n"
     ]
    },
    {
     "data": {
      "image/png": "[encoded data removed]",
      "text/plain": [
       "<matplotlib.figure.Figure at 0x11eb122d0>"
      ]
     },
     "metadata": {},
     "output_type": "display_data"
    }
   ],
   "source": [
    "from sklearn.datasets import load_digits\n",
    "digits = load_digits(n_class=10)\n",
    "print type(digits)\n",
    "\n",
    "import random\n",
    "digits_sample = random.sample(range(0,digits.images.shape[0]),12)\n",
    "print digits_sample\n",
    "\n",
    "#show sample digits\n",
    "plt.rcParams['figure.figsize'] = (13, 4)\n",
    "f, axarr = plt.subplots(2, 6)\n",
    "for j in range(0,axarr.shape[1]):\n",
    "    for i in range(0,axarr.shape[0]):\n",
    "        axarr[i,j].matshow(digits.images[digits_sample[i+j]])\n",
    "plt.show()"
   ]
  },
  {
   "cell_type": "markdown",
   "metadata": {},
   "source": [
    "Multi Layer Feed-Forward Neural Network (in this case, 3 layers [input, 1 hidden, output])\n",
    "\n",
    "Source: https://en.wikipedia.org/wiki/Feedforward_neural_network\n",
    "\n",
    "Source2: http://neuralnetworksanddeeplearning.com/chap1.html\n",
    "\n",
    "The structure is something like the below.\n",
    "\n",
    "In our case, each image have a total of 8x8 = 64 pixels, so using 64 input neurons instead.\n",
    "We can try using 15 hidden neurons.\n",
    "\n",
    "<img src=\"http://neuralnetworksanddeeplearning.com/images/tikz12.png\" style=\"width:500px;\" />\n",
    "\n",
    "10-digit multi-classification where probability for each digit's prediction node is\n",
    "\n",
    "$$ f(w,X) = \\dfrac{1}{1+e^{-(w \\cdot X)}} $$\n",
    "\n",
    "(Note: the weight vector \"w\" includes bias component as w0)\n",
    "\n",
    "Loss function is a mean-square error(MSE). \n",
    "\n",
    "$$ L = \\dfrac{1}{2m}\\sum_{j=1}^m \\bigl\\|\\;f(w,X_j) - y_j\\;\\bigr\\|^2 $$\n",
    "\n",
    "The $ \\| v \\| $ just means the function applies over the length of vectors.\n",
    "\n",
    "With partial derivatives and chain-rule, we can [derive](https://www.cs.swarthmore.edu/~meeden/cs81/s10/BackPropDeriv.pdf) the gradient update. \n",
    "\n",
    "The result for weight feature no. \"i\" and number of \"j\" datapoints is:\n",
    "\n",
    "$$ \\Delta w_i = -\\dfrac{1}{m}\\sum_{j=1}^m (y_j - f_{i,j}) \\cdot f_{i,j} \\cdot (1-f_{i,j}) \\cdot  x_{i,j} $$\n",
    "\n",
    "$$ w_i(t+1) = w_i(t) -\\dfrac{\\eta}{m}\\sum_{j=1}^m (y_j - f_{i,j}) \\cdot f_{i,j} \\cdot (1-f_{i,j}) \\cdot  x_{i,j} $$\n",
    "\n",
    "where $\\eta$ is a learning rate.\n",
    "\n",
    "So Specfically, for weights of hidden to output layer, the input $x_{i,j}$ is actually the output $f(x)$ from the previous layer:\n",
    "\n",
    "$$ w_i^{out}(t+1) = w^{out}_i(t) -\\dfrac{\\eta}{m}\\sum_{j=1}^m (y_j - f^{out}_{i,j}) \\cdot f^{out}_{i,j} \\cdot (1-f^{out}_{i,j}) \\cdot  f^{hid}_{i,j} $$\n",
    "\n",
    "For optimization methods, we will use \"mini-batch stochastic gradient descent\"\n",
    "\n",
    "mini-batch & stochastic means we will sample n datapoints and compute an aggregate gradient to update the weights.\n",
    "\n",
    "Update the weights \"w\" , iterate over each input vector j:\n",
    "\n",
    "$$ w_i(t+1) = w_i(t) +(y_i - f(x_i)) \\cdot x_{i,j} $$\n",
    "\n",
    "\n",
    "\n"
   ]
  },
  {
   "cell_type": "code",
   "execution_count": 21,
   "metadata": {
    "collapsed": false
   },
   "outputs": [],
   "source": [
    "#make a flat 10 output with all zeros\n",
    "Y = np.zeros((digits.target.shape[0],10))\n",
    "for j in range(0,digits.target.shape[0]):\n",
    "    Y[j][digits.target[j]] = 1\n",
    "\n",
    "#make a row of 64 input features instead of 8x8\n",
    "X = digits.images.reshape(digits.images.shape[0],digits.images.shape[1]*digits.images.shape[2])\n",
    "#X = (X - 8)/8 #standardized input since it's 16-bit hue\n",
    "Xb = np.insert(X,0,1,axis=1) #add bias input, always activated"
   ]
  },
  {
   "cell_type": "code",
   "execution_count": 22,
   "metadata": {
    "collapsed": false
   },
   "outputs": [
    {
     "data": {
      "text/plain": [
       "array([0, 1, 2, ..., 8, 9, 8])"
      ]
     },
     "execution_count": 22,
     "metadata": {},
     "output_type": "execute_result"
    }
   ],
   "source": [
    "digits.target"
   ]
  },
  {
   "cell_type": "code",
   "execution_count": 23,
   "metadata": {
    "collapsed": false
   },
   "outputs": [
    {
     "data": {
      "text/plain": [
       "array([[  0.,   0.,   5.,  13.,   9.,   1.,   0.,   0.,   0.,   0.,  13.,\n",
       "         15.,  10.,  15.,   5.,   0.,   0.,   3.,  15.,   2.,   0.,  11.,\n",
       "          8.,   0.,   0.,   4.,  12.,   0.,   0.,   8.,   8.,   0.,   0.,\n",
       "          5.,   8.,   0.,   0.,   9.,   8.,   0.,   0.,   4.,  11.,   0.,\n",
       "          1.,  12.,   7.,   0.,   0.,   2.,  14.,   5.,  10.,  12.,   0.,\n",
       "          0.,   0.,   0.,   6.,  13.,  10.,   0.,   0.,   0.],\n",
       "       [  0.,   0.,   0.,  12.,  13.,   5.,   0.,   0.,   0.,   0.,   0.,\n",
       "         11.,  16.,   9.,   0.,   0.,   0.,   0.,   3.,  15.,  16.,   6.,\n",
       "          0.,   0.,   0.,   7.,  15.,  16.,  16.,   2.,   0.,   0.,   0.,\n",
       "          0.,   1.,  16.,  16.,   3.,   0.,   0.,   0.,   0.,   1.,  16.,\n",
       "         16.,   6.,   0.,   0.,   0.,   0.,   1.,  16.,  16.,   6.,   0.,\n",
       "          0.,   0.,   0.,   0.,  11.,  16.,  10.,   0.,   0.],\n",
       "       [  0.,   0.,   0.,   4.,  15.,  12.,   0.,   0.,   0.,   0.,   3.,\n",
       "         16.,  15.,  14.,   0.,   0.,   0.,   0.,   8.,  13.,   8.,  16.,\n",
       "          0.,   0.,   0.,   0.,   1.,   6.,  15.,  11.,   0.,   0.,   0.,\n",
       "          1.,   8.,  13.,  15.,   1.,   0.,   0.,   0.,   9.,  16.,  16.,\n",
       "          5.,   0.,   0.,   0.,   0.,   3.,  13.,  16.,  16.,  11.,   5.,\n",
       "          0.,   0.,   0.,   0.,   3.,  11.,  16.,   9.,   0.]])"
      ]
     },
     "execution_count": 23,
     "metadata": {},
     "output_type": "execute_result"
    }
   ],
   "source": [
    "X[0:3]"
   ]
  },
  {
   "cell_type": "code",
   "execution_count": 4,
   "metadata": {
    "collapsed": false
   },
   "outputs": [],
   "source": [
    "def f_func(w,x):\n",
    "    result = w.dot(x.transpose())\n",
    "    return np.where(result>0,1,0)\n",
    "\n",
    "def loss_func(f,y):\n",
    "    return np.average(np.abs(f - y))"
   ]
  },
  {
   "cell_type": "code",
   "execution_count": 5,
   "metadata": {
    "collapsed": false
   },
   "outputs": [
    {
     "ename": "NameError",
     "evalue": "name 'X' is not defined",
     "output_type": "error",
     "traceback": [
      "\u001b[1;31m---------------------------------------------------------------------------\u001b[0m",
      "\u001b[1;31mNameError\u001b[0m                                 Traceback (most recent call last)",
      "\u001b[1;32m<ipython-input-5-1fc1ce1117d4>\u001b[0m in \u001b[0;36m<module>\u001b[1;34m()\u001b[0m\n\u001b[0;32m      1\u001b[0m \u001b[1;31m#initialize everything.\u001b[0m\u001b[1;33m\u001b[0m\u001b[1;33m\u001b[0m\u001b[0m\n\u001b[0;32m      2\u001b[0m \u001b[0mw\u001b[0m \u001b[1;33m=\u001b[0m \u001b[0mnp\u001b[0m\u001b[1;33m.\u001b[0m\u001b[0marray\u001b[0m\u001b[1;33m(\u001b[0m\u001b[1;33m[\u001b[0m\u001b[1;36m0.01\u001b[0m \u001b[1;33m,\u001b[0m \u001b[1;36m0.01\u001b[0m\u001b[1;33m,\u001b[0m \u001b[1;36m0.01\u001b[0m\u001b[1;33m]\u001b[0m\u001b[1;33m)\u001b[0m \u001b[1;31m# including bias as weight (w0 in the first column)\u001b[0m\u001b[1;33m\u001b[0m\u001b[0m\n\u001b[1;32m----> 3\u001b[1;33m \u001b[0mXb\u001b[0m \u001b[1;33m=\u001b[0m \u001b[0mnp\u001b[0m\u001b[1;33m.\u001b[0m\u001b[0minsert\u001b[0m\u001b[1;33m(\u001b[0m\u001b[0mX\u001b[0m\u001b[1;33m,\u001b[0m\u001b[1;36m0\u001b[0m\u001b[1;33m,\u001b[0m\u001b[1;36m1\u001b[0m\u001b[1;33m,\u001b[0m\u001b[0maxis\u001b[0m\u001b[1;33m=\u001b[0m\u001b[1;36m1\u001b[0m\u001b[1;33m)\u001b[0m \u001b[1;31m#add bias input, always activated\u001b[0m\u001b[1;33m\u001b[0m\u001b[0m\n\u001b[0m\u001b[0;32m      4\u001b[0m \u001b[1;33m\u001b[0m\u001b[0m\n\u001b[0;32m      5\u001b[0m \u001b[1;31m#run till convergence\u001b[0m\u001b[1;33m\u001b[0m\u001b[1;33m\u001b[0m\u001b[0m\n",
      "\u001b[1;31mNameError\u001b[0m: name 'X' is not defined"
     ]
    }
   ],
   "source": [
    "#initialize everything.\n",
    "w = np.array([0.01 , 0.01, 0.01]) # including bias as weight (w0 in the first column)\n",
    "Xb = np.insert(X,0,1,axis=1) #add bias input, always activated\n",
    "\n",
    "#run till convergence\n",
    "y_pred = f_func(w,Xb)\n",
    "curr_loss = loss_func(y_pred,Y)\n",
    "loss = []\n",
    "loss.append(curr_loss)\n",
    "\n",
    "for i in range(0,100):\n",
    "    \n",
    "    #iterate over each j input vector\n",
    "    for j in range(0,Y.shape[0]): \n",
    "        y_pred[j] = f_func(w,Xb[j])\n",
    "        w = w + (Y[j] - y_pred[j])*Xb[j]\n",
    "    \n",
    "    #evaluate aggregate loss function    \n",
    "    y_pred = f_func(w,Xb)\n",
    "    curr_loss = loss_func(y_pred,Y)\n",
    "    loss.append(curr_loss)\n",
    "    \n",
    "    #stopping criterion\n",
    "    if (i>10) and ((loss[-2] - curr_loss) < 10**-5): \n",
    "        print 'stop at {}'.format(i)\n",
    "        break\n",
    "\n",
    "print w\n",
    "plt.figure()\n",
    "plt.xlabel('no. of run')\n",
    "plt.ylabel('loss function')\n",
    "plt.title('Loss function minimization over time')\n",
    "sns.tsplot(loss)"
   ]
  },
  {
   "cell_type": "code",
   "execution_count": null,
   "metadata": {
    "collapsed": false
   },
   "outputs": [],
   "source": [
    "from sklearn.metrics import confusion_matrix\n",
    "cm_mat = confusion_matrix(Y,y_pred)\n",
    "print cm_mat.T\n",
    "df_temp = pd.DataFrame(cm_mat.flatten()[np.newaxis].T,columns = ['values'])\n",
    "plt.figure(figsize = (6,4),dpi=600)\n",
    "sns.heatmap(cm_mat.T, cbar=True ,annot=True, fmt=',.0f')\n",
    "plt.xlabel('Truth')\n",
    "plt.ylabel('Predicted')\n",
    "plt.title('confusion matrix')"
   ]
  },
  {
   "cell_type": "code",
   "execution_count": null,
   "metadata": {
    "collapsed": false
   },
   "outputs": [],
   "source": [
    "#plot decision boundary\n",
    "\n",
    "plt.scatter(X[:, 0], X[:, 1], marker='o', c=Y)\n",
    "\n",
    "x_line = np.array([np.min(X[:, 0]),np.max(X[:, 0])]) #this is \"x0\"\n",
    "y_line = -(w[0] + w[1]*x_line)/w[2] #plot y_line based on where it makes \"x1\" becomes zero\n",
    "plt.plot(x_line,y_line)\n",
    "plt.show()\n",
    "print y_line"
   ]
  },
  {
   "cell_type": "code",
   "execution_count": null,
   "metadata": {
    "collapsed": true
   },
   "outputs": [],
   "source": []
  }
 ],
 "metadata": {
  "anaconda-cloud": {},
  "kernelspec": {
   "display_name": "Python 2",
   "language": "python",
   "name": "python2"
  },
  "language_info": {
   "codemirror_mode": {
    "name": "ipython",
    "version": 2
   },
   "file_extension": ".py",
   "mimetype": "text/x-python",
   "name": "python",
   "nbconvert_exporter": "python",
   "pygments_lexer": "ipython2",
   "version": "2.7.12"
  }
 },
 "nbformat": 4,
 "nbformat_minor": 0
}
