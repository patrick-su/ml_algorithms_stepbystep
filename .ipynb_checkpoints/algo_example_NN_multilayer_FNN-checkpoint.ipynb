{
 "cells": [
  {
   "cell_type": "code",
   "execution_count": 1,
   "metadata": {
    "collapsed": true
   },
   "outputs": [],
   "source": [
    "import pandas as pd\n",
    "import numpy as np\n",
    "from random import randint\n",
    "from pandas import Series,DataFrame\n",
    "import seaborn as sns\n",
    "import matplotlib.pyplot as plt\n",
    "import matplotlib\n",
    "import math\n",
    "%matplotlib inline\n",
    "plt.rcParams['figure.figsize'] = (8, 6)\n",
    "plt.rcParams['font.size'] = 14"
   ]
  },
  {
   "cell_type": "code",
   "execution_count": 2,
   "metadata": {
    "collapsed": false
   },
   "outputs": [
    {
     "data": {
      "text/html": [
       "<style>\n",
       "table {float:left}\n",
       "</style>"
      ],
      "text/plain": [
       "<IPython.core.display.HTML object>"
      ]
     },
     "metadata": {},
     "output_type": "display_data"
    }
   ],
   "source": [
    "%%html\n",
    "<style>\n",
    "table {float:left}\n",
    "</style>"
   ]
  },
  {
   "cell_type": "markdown",
   "metadata": {},
   "source": [
    "#### Using the MNIST digit dataset.\n",
    "\n",
    "Source: http://yann.lecun.com/exdb/mnist/\n",
    "\n",
    "sklearn has nicely [imported](http://scikit-learn.org/stable/modules/generated/sklearn.datasets.load_digits.html#sklearn.datasets.load_digits) it for us.\n",
    "\n",
    "| Classes           | 10            |\n",
    "|-------------------|---------------|\n",
    "| Samples per class | ~180          |\n",
    "| Samples total     | 1797          |\n",
    "| Dimensionality    | 64            |\n",
    "| Features          | integers 0-16 |"
   ]
  },
  {
   "cell_type": "code",
   "execution_count": 3,
   "metadata": {
    "collapsed": false
   },
   "outputs": [
    {
     "name": "stdout",
     "output_type": "stream",
     "text": [
      "<class 'sklearn.datasets.base.Bunch'>\n",
      "[176, 1368, 568, 1241, 1600, 1161, 264, 434, 945, 717]\n"
     ]
    },
    {
     "data": {
      "image/png": "[encoded data removed]",
      "text/plain": [
       "<matplotlib.figure.Figure at 0xbd09a58>"
      ]
     },
     "metadata": {},
     "output_type": "display_data"
    }
   ],
   "source": [
    "from sklearn.datasets import load_digits\n",
    "digits = load_digits(n_class=10)\n",
    "print type(digits)\n",
    "\n",
    "import random\n",
    "digits_sample = random.sample(range(0,digits.images.shape[0]),10)\n",
    "print digits_sample\n",
    "\n",
    "#show sample digits\n",
    "plt.rcParams['figure.figsize'] = (12, 4)\n",
    "f, axarr = plt.subplots(2, 5)\n",
    "for j in range(0,axarr.shape[1]):\n",
    "    for i in range(0,axarr.shape[0]):\n",
    "        axarr[i,j].matshow(digits.images[digits_sample[i+j]])\n",
    "plt.show()"
   ]
  },
  {
   "cell_type": "markdown",
   "metadata": {},
   "source": [
    "### Multi-Layer Feed-Forward Neural Network \n",
    "#### (in this case, 3 layers [input, 1 hidden, output])\n",
    "\n",
    "Source: https://en.wikipedia.org/wiki/Feedforward_neural_network\n",
    "\n",
    "Source2: http://neuralnetworksanddeeplearning.com/chap1.html\n",
    "\n",
    "The structure is something like the below.\n",
    "\n",
    "In our case, each image have a total of 8x8 = 64 pixels, so we will be using 64-input neurons instead of 784.\n",
    "We can try using the same number of 15 hidden neurons.\n",
    "\n",
    "(Important Note: since each node (same layer) is getting exactly the same input, it is of utmost importance to **initialize all the weights with different (randomized) values!** Else the output will be the same for all eternity)\n",
    "\n",
    "<img src=\"http://neuralnetworksanddeeplearning.com/images/tikz12.png\" style=\"width:500px;\" />\n",
    "\n",
    "Let's define some terms.\n",
    "\n",
    "| symbol       | meaning                                           |\n",
    "|--------------|---------------------------------------------------|\n",
    "| i            | index of input to the neurons                     |\n",
    "| k            | index of the neurons (per layer)                  |\n",
    "| j            | index of data input rows (each digit image)       |\n",
    "| w            | weight vector for neuron connections              |\n",
    "| $w_{i,k}$    | weight connection from i input to k neuron        |\n",
    "| x or X       | vector or array of input data                     |\n",
    "| y or Y       | vector or array of target data (0 or 1 for each digit)         |\n",
    "| f or f(x,..) | activation function, in this case it's a sigmoid. |\n",
    "| $\\eta$       | learning rate. (pronouce:\"eta\")                   |"
   ]
  },
  {
   "cell_type": "markdown",
   "metadata": {},
   "source": [
    "### The Node's activation function\n",
    "\n",
    "10-digit multi-classification where probability for each node's output is a sigmoid function\n",
    "\n",
    "$$ f(w,X) = \\dfrac{1}{1+e^{-(w \\cdot X)}} $$\n",
    "\n",
    "(Note: the weight vector \"w\" includes [bias component](http://stackoverflow.com/questions/2480650/role-of-bias-in-neural-networks) as $w_0$. the input array (\"X\") will always have first input as a \"1\", so bias is always activated.)\n",
    "\n",
    "\n",
    "### Loss function\n",
    "\n",
    "Loss function is a mean-square error(MSE).\n",
    "\n",
    "$$ L = \\dfrac{1}{2m}\\sum_{j=1}^m \\bigl\\|\\;f(w,x_j) - y_j\\;\\bigr\\|^2 $$\n",
    "\n",
    "### Output layer\n",
    "\n",
    "The first [partial derivative](https://www.cs.swarthmore.edu/~meeden/cs81/s10/BackPropDeriv.pdf) is the **gradient**, in simplified term is:\n",
    "\n",
    "$$ \\Delta w_{i,k,j} = - (y_k-f_{k,j}) \\cdot f_{k,j} \\cdot (1-f_{k,j}) \\cdot x_{i,j}$$\n",
    "\n",
    "we can sum out all the gradient of each training sample like so:\n",
    "\n",
    "$$ \\Delta w_{i,k} = - \\sum_{j=1}^m  (y_k-f_{k,j}) \\cdot f_{k,j} \\cdot (1-f_{k,j}) \\cdot x_{i,j}$$\n",
    "\n",
    "In shorter form, we group the inner part under a new variable \"delta\":\n",
    "\n",
    "$$ \\Delta w_{i,k} = - \\sum_{j=1}^m  \\delta_{k,j} \\cdot x_{i,j}$$\n",
    "\n",
    "Then we can update the w (with learning rate)\n",
    "\n",
    "$$ w_{i,k}(t+1) = w_{i,k}(t) - \\eta \\sum_{j=1}^m  \\delta_{k,j} \\cdot x_{i,j}$$\n",
    "\n",
    "Specifically, for the weights from hidden to output layer ($w^{out}$). The input \"$x$\" is actually the resulting output from the lower layer $f^{hid}$.\n",
    "\n",
    "##### w hidden-to-output layer update:\n",
    "\n",
    "$$ w_{i,k}^{out}(t+1) = w_{i,k}^{out}(t) - \\eta \\sum_{j=1}^m  \\delta_{k,j}^{out} \\cdot f_{i,k}^{hid}$$\n",
    "\n",
    "### Intuition behind the formula\n",
    "\n",
    "For the update **gradient** ($\\Delta w$) itself excluding the learning rate, it comprises of 3 parts:\n",
    "\n",
    "$$ \n",
    "\\begin{align}\n",
    "A &= (y_k-f_{k,j}^{out})  \\\\\n",
    "B &= f_{k,j}^{out} \\cdot (1-f_{k,j}^{out}) \\\\\n",
    "C &= f_{i,k}^{hid}\n",
    "\\end{align}\n",
    "$$\n",
    "\n",
    "+ **A** is the magnitude of errors. its value is between (-1 to +1). The bigger the error, the bigger the correction.\n",
    "+ **B** is the magnitude of \"uncertainty\". B's value can go between (0 to 0.5) with a dome-like shape (see below). This means the magnitude of corrections varies according to the confidence of its previous prediction ($f^{out}$). If $f^{out}$ is at its peak of 0.5, meaning that the truth could equally be 0 or 1 -- its warrants a large correction. \n",
    "+ **C** is the magnitude of input. its value is between (0 to 1). We multiply the gradient with this so that the correction will scale with the input.\n",
    "\n",
    "---"
   ]
  },
  {
   "cell_type": "code",
   "execution_count": 207,
   "metadata": {
    "collapsed": false
   },
   "outputs": [
    {
     "data": {
      "image/png": "[encoded data removed]",
      "text/plain": [
       "<matplotlib.figure.Figure at 0x12c9fe350>"
      ]
     },
     "metadata": {},
     "output_type": "display_data"
    }
   ],
   "source": [
    "# Graphing B part's formula\n",
    "graph_x = np.arange(0,1.05,0.05)\n",
    "graph_y = graph_x*(1-graph_x)\n",
    "plt.title('B Part value range')\n",
    "plt.xlabel('f_out')\n",
    "plt.ylabel('B value')\n",
    "plt.plot(graph_x, graph_y)\n",
    "plt.ylim([0,0.30])\n",
    "plt.show()"
   ]
  },
  {
   "cell_type": "markdown",
   "metadata": {},
   "source": [
    "---\n",
    "\n",
    "### Hidden Layer\n",
    "\n",
    "Moving on to the lower layer -- from input to hidden. \n",
    "\n",
    "Here comes the [backpropagation](https://www.cs.swarthmore.edu/~meeden/cs81/s10/BackPropDeriv.pdf) step --summing back the corrections from output layer:\n",
    "\n",
    "$$ \\Delta w_{i,k}^{hid} = - \\sum_{j=1}^m \\bigl\\{ \\bigl(\\sum_{k_{out}=1}^n  \\delta_{k_{out},j}^{out} \\cdot w_{k_{hid},k_{out}}^{out}(t) \\bigr) \\cdot f_{k,j}^{hid} \\cdot (1-f_{k,j}^{hid}) \\cdot x_{i,j} \\bigr\\}$$\n",
    "\n",
    "Again, we can shorten it to:\n",
    "\n",
    "$$ \\Delta w_{i,k}^{hid} = - \\sum_{j=1}^m \\delta_{k,j}^{hid} \\cdot x_{i,j} $$\n",
    "\n",
    "And we can update w as such:\n",
    "\n",
    "##### w input-to-hidden layer update:\n",
    "\n",
    "$$ w_i^{hid}(t+1) = w_i^{hid}(t) - \\eta \\sum_{j=1}^m  \\delta_{i,j}^{hid} \\cdot x_{i,j}$$\n",
    "\n",
    "### Intuition behind the formula, part duex\n",
    "\n",
    "we continue the analysis of the **gradient** ($\\Delta w$), this time for the hidden layer:\n",
    "\n",
    "$$ \n",
    "\\begin{align}\n",
    "D &= \\sum_{k_{out}=1}^n  \\delta_{k_{out},j}^{out} \\cdot w_{k_{hid},k_{out}}^{out}(t)  \\\\\n",
    "E &= f_{k,j}^{hid} \\cdot (1-f_{k,j}^{hid}) \\\\\n",
    "F &= x_{i,j}\n",
    "\\end{align}\n",
    "$$\n",
    "\n",
    "+ **D** is the magnitude of errors. It is a sum of output layer's delta values back to the node $k^{hid}$, scaled by its outgoing weights.\n",
    "+ **E** is the magnitude of \"sureness\". it works the same way as **B** above. \n",
    "+ **F** is the magnitude of input. it works the same way as **C** above. The input of different features should be standardized such that their magnitudes have similar scale.\n",
    "\n",
    "---\n",
    "### For someone who hates math equations\n",
    "\n",
    "All the math notations actually made my head hurt. (And I've written those myself!)\n",
    "\n",
    "For step-by-step calculation with **actual numbers**, [this website](https://mattmazur.com/2015/03/17/a-step-by-step-backpropagation-example/) has a really good write-up.\n",
    "\n",
    "---\n",
    "\n",
    "### Optimization method\n",
    "\n",
    "we are going just sum up the deltas from all the samples (all 1,797 of them) and update the weights in one go. Since it's a matrix operation, the speed is pretty fast.\n",
    "\n",
    "I was considering doing mini-batch and other tricks, but for this Notebook I just want a clear step-by-step example of the actual algorithm itself.\n",
    "\n",
    "---\n",
    "\n",
    "---"
   ]
  },
  {
   "cell_type": "code",
   "execution_count": 598,
   "metadata": {
    "collapsed": false
   },
   "outputs": [],
   "source": [
    "#set size of input, features, hidden, target\n",
    "sample_size = digits.images.shape[0]\n",
    "feature_size = digits.images.shape[1]*digits.images.shape[2]\n",
    "target_size = 10\n",
    "hidden_size = 15\n",
    "\n",
    "#make a flat 10 output with all zeros\n",
    "Y = np.zeros((sample_size,10))\n",
    "for j in range(0,sample_size):\n",
    "    Y[j][digits.target[j]] = 1\n",
    "\n",
    "#make a row of 64 input features instead of 8x8\n",
    "X = digits.images[0:sample_size].reshape(sample_size,feature_size)\n",
    "X = (X-8)/8 #normalized \n",
    "Xb = np.insert(X,0,1,axis=1) #add bias input, always activated"
   ]
  },
  {
   "cell_type": "code",
   "execution_count": 599,
   "metadata": {
    "collapsed": false
   },
   "outputs": [],
   "source": [
    "def sigmoid(w,X):\n",
    "    a = 1.0/(1.0 + np.exp(-w.dot(X.transpose())))\n",
    "    return a.transpose()\n",
    "\n",
    "def loss_func(Y,y_pred):\n",
    "    return (0.5/sample_size)*np.sum((Y-y_pred)**2) #element-wise operation then aggregate"
   ]
  },
  {
   "cell_type": "code",
   "execution_count": 600,
   "metadata": {
    "collapsed": false
   },
   "outputs": [],
   "source": [
    "#initialize the rest of the terms\n",
    "# for weights --> index = (output node , input node)\n",
    "w_hid = (np.random.rand(hidden_size,feature_size+1)-0.5) #randomized, and don't forget the bias!\n",
    "w_out = (np.random.rand(target_size,hidden_size+1)-0.5) #randomized, and don't forget the bias!\n",
    "\n",
    "#for f --> index = (data row , node)\n",
    "f_hid = np.random.rand(sample_size,hidden_size)\n",
    "f_out = np.random.rand(sample_size,target_size)\n",
    "\n",
    "#for deltas  --> index = (data row , node)\n",
    "delta_hid = np.random.rand(sample_size,hidden_size)\n",
    "delta_out = np.random.rand(sample_size,target_size)"
   ]
  },
  {
   "cell_type": "code",
   "execution_count": 601,
   "metadata": {
    "collapsed": true
   },
   "outputs": [],
   "source": [
    "#verification with dummy data\n",
    "#checking numbers from https://mattmazur.com/2015/03/17/a-step-by-step-backpropagation-example/\n",
    "#sample_size = 1\n",
    "#X = np.array([[0.05,0.1]])\n",
    "#Xb = np.array([[1, 0.05,0.1]])\n",
    "#Y = np.array([[0.01,0.99]])\n",
    "#w_hid = np.array([[0.35,0.15,0.20],[0.35,0.25,0.3]])\n",
    "#w_out = np.array([[0.60,0.40,0.45],[0.60,0.50,0.55]])\n",
    "#w_out_bef = w_out.copy()"
   ]
  },
  {
   "cell_type": "code",
   "execution_count": 602,
   "metadata": {
    "collapsed": false,
    "scrolled": false
   },
   "outputs": [
    {
     "name": "stdout",
     "output_type": "stream",
     "text": [
      "start_loss = 2.78434781239\n",
      "stop at 941\n",
      "end_loss = 0.0849270706587\n"
     ]
    },
    {
     "data": {
      "text/plain": [
       "<matplotlib.axes._subplots.AxesSubplot at 0x3933f2e8>"
      ]
     },
     "execution_count": 602,
     "metadata": {},
     "output_type": "execute_result"
    },
    {
     "data": {
      "image/png": "[encoded data removed]",
      "text/plain": [
       "<matplotlib.figure.Figure at 0x3933f278>"
      ]
     },
     "metadata": {},
     "output_type": "display_data"
    }
   ],
   "source": [
    "#run configuration\n",
    "max_epoch = 5000\n",
    "min_loss_criterion = 10**-4\n",
    "\n",
    "#doing 1st forward pass to calculate loss\n",
    "f_hid = sigmoid(w_hid,Xb)\n",
    "f_hid_b = np.insert(f_hid,0,1,axis=1) #bias activation for next layer\n",
    "f_out = sigmoid(w_out,f_hid_b)\n",
    "curr_loss = loss_func(Y,f_out)\n",
    "loss = []\n",
    "loss.append(curr_loss)\n",
    "print 'start_loss = {}'.format(curr_loss*2)\n",
    "\n",
    "learning_rate = 0.7/sample_size\n",
    "learning_rate_bias = 0.7/sample_size\n",
    "\n",
    "for i in range(0,max_epoch):\n",
    "    \n",
    "    #update the weights of output layer\n",
    "    delta_out = (f_out - Y)*(f_out)*(1-f_out) #element-wise operation \n",
    "    wgrad_out = np.einsum('ki,kj->ij', delta_out, f_hid) #dot operation already sums it up     \n",
    "    w_out_bef = w_out.copy()\n",
    "    w_out[:,1:] = w_out[:,1:] -learning_rate*(wgrad_out)\n",
    "    w_out[:,0] = w_out[:,0] -learning_rate_bias*np.sum(delta_out,axis=0)*1.0\n",
    "\n",
    "    #update the weights of hidden layer\n",
    "    delta_hid = delta_out.dot(w_out_bef[:,1:])*(f_hid)*(1-f_hid) #dot then element-wise operation      \n",
    "    wgrad_hid = np.einsum('ki,kj->ij',delta_hid,Xb[:,1:])\n",
    "    w_hid[:,1:] = w_hid[:,1:] -learning_rate*wgrad_hid\n",
    "    w_hid[:,0] = w_hid[:,0] -learning_rate_bias*np.sum(delta_hid,axis=0)*1.0\n",
    "    \n",
    "    #re-calculate loss\n",
    "    f_hid = sigmoid(w_hid,Xb)\n",
    "    f_hid_b = np.insert(f_hid,0,1,axis=1) #bias activation for next layer\n",
    "    f_out = sigmoid(w_out,f_hid_b)\n",
    "    curr_loss = loss_func(Y,f_out)\n",
    "    loss.append(curr_loss)\n",
    "\n",
    "    #stopping criterion\n",
    "    if (i>10) and ((loss[-2] - curr_loss) < min_loss_criterion): \n",
    "        print 'stop at {}'.format(i)\n",
    "        break\n",
    "\n",
    "print 'end_loss = {}'.format(loss[-1])\n",
    "        \n",
    "plt.figure()\n",
    "plt.xlabel('no. of run')\n",
    "plt.ylabel('loss function')\n",
    "sns.tsplot(loss)"
   ]
  },
  {
   "cell_type": "code",
   "execution_count": 605,
   "metadata": {
    "collapsed": false
   },
   "outputs": [
    {
     "name": "stdout",
     "output_type": "stream",
     "text": [
      "[[177   0   0   0   0   1   1   0   0   0]\n",
      " [  0 170   0   0   2   1   1   0  15   2]\n",
      " [  0   1 176   3   0   0   0   0   2   0]\n",
      " [  0   0   0 177   0   0   0   0   2   1]\n",
      " [  1   0   0   0 176   0   0   1   0   0]\n",
      " [  0   2   0   2   0 176   0   0   4   3]\n",
      " [  0   2   0   0   0   1 179   0   3   0]\n",
      " [  0   0   1   0   1   1   0 177   1   5]\n",
      " [  0   3   0   1   1   0   0   1 145   3]\n",
      " [  0   4   0   0   1   2   0   0   2 166]]\n",
      "Accuracy = 95.66%\n",
      "Actually this is not true accuracy because we didn't verify it with the test dataset.\n"
     ]
    },
    {
     "data": {
      "text/plain": [
       "<matplotlib.text.Text at 0x39b21128>"
      ]
     },
     "execution_count": 605,
     "metadata": {},
     "output_type": "execute_result"
    },
    {
     "data": {
      "image/png": "[encoded data removed]",
      "text/plain": [
       "<matplotlib.figure.Figure at 0x44caab00>"
      ]
     },
     "metadata": {},
     "output_type": "display_data"
    }
   ],
   "source": [
    "#get the prediction to compare with target\n",
    "y_pred = np.argmax(f_out,axis=1)\n",
    "\n",
    "from sklearn.metrics import confusion_matrix\n",
    "cm_mat = confusion_matrix(digits.target[0:sample_size],y_pred)\n",
    "print cm_mat.T\n",
    "accuracy = np.trace(cm_mat)*100.0/sample_size\n",
    "print 'Accuracy = {:.2f}%'.format(accuracy)\n",
    "print 'Actually this is not true accuracy because we didn\\'t verify it with the test dataset.'\n",
    "df_temp = pd.DataFrame(cm_mat.flatten()[np.newaxis].T,columns = ['values'])\n",
    "plt.figure(figsize = (6,4),dpi=600)\n",
    "sns.heatmap(cm_mat.T, cbar=True ,annot=True, fmt=',.0f')\n",
    "plt.title('Confusion Matrix')\n",
    "plt.xlabel('Truth')\n",
    "plt.ylabel('Predicted')"
   ]
  },
  {
   "cell_type": "code",
   "execution_count": null,
   "metadata": {
    "collapsed": true
   },
   "outputs": [],
   "source": []
  }
 ],
 "metadata": {
  "anaconda-cloud": {},
  "kernelspec": {
   "display_name": "Python 2",
   "language": "python",
   "name": "python2"
  },
  "language_info": {
   "codemirror_mode": {
    "name": "ipython",
    "version": 2
   },
   "file_extension": ".py",
   "mimetype": "text/x-python",
   "name": "python",
   "nbconvert_exporter": "python",
   "pygments_lexer": "ipython2",
   "version": "2.7.12"
  }
 },
 "nbformat": 4,
 "nbformat_minor": 0
}
