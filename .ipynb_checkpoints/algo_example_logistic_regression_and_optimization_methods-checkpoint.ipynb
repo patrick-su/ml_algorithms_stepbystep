{
 "cells": [
  {
   "cell_type": "code",
   "execution_count": 84,
   "metadata": {
    "collapsed": true
   },
   "outputs": [],
   "source": [
    "import pandas as pd\n",
    "import numpy as np\n",
    "from random import randint\n",
    "from pandas import Series,DataFrame\n",
    "import seaborn as sns\n",
    "import matplotlib.pyplot as plt\n",
    "import matplotlib\n",
    "import math\n",
    "%matplotlib inline\n",
    "plt.rcParams['figure.figsize'] = (12, 10)\n",
    "plt.rcParams['font.size'] = 14"
   ]
  },
  {
   "cell_type": "code",
   "execution_count": 85,
   "metadata": {
    "collapsed": false
   },
   "outputs": [
    {
     "data": {
      "text/html": [
       "<style>\n",
       "table {float:left}\n",
       "</style>"
      ],
      "text/plain": [
       "<IPython.core.display.HTML object>"
      ]
     },
     "metadata": {},
     "output_type": "display_data"
    }
   ],
   "source": [
    "%%html\n",
    "<style>\n",
    "table {float:left}\n",
    "</style>"
   ]
  },
  {
   "cell_type": "code",
   "execution_count": 86,
   "metadata": {
    "collapsed": false
   },
   "outputs": [
    {
     "data": {
      "text/plain": [
       "sklearn.datasets.base.Bunch"
      ]
     },
     "execution_count": 86,
     "metadata": {},
     "output_type": "execute_result"
    }
   ],
   "source": [
    "from sklearn.datasets import load_iris\n",
    "iris = load_iris()\n",
    "type(iris)"
   ]
  },
  {
   "cell_type": "markdown",
   "metadata": {},
   "source": [
    "\n",
    "\n",
    "Load and return the boston house-prices dataset (regression).\n",
    "\n",
    "| Description       | Value          |\n",
    "|-------------------|----------------|\n",
    "| Classes           | 3              |\n",
    "| Samples per class | 50             |\n",
    "| Samples total     | 150            |\n",
    "| Dimensionality    | 4              |\n",
    "| Features          | real, positive |"
   ]
  },
  {
   "cell_type": "code",
   "execution_count": 87,
   "metadata": {
    "collapsed": false,
    "scrolled": true
   },
   "outputs": [
    {
     "name": "stdout",
     "output_type": "stream",
     "text": [
      "<type 'numpy.ndarray'>\n",
      "(150L, 4L)\n",
      "(150L,)\n",
      "[[ 5.1  3.5  1.4  0.2]\n",
      " [ 4.9  3.   1.4  0.2]\n",
      " [ 4.7  3.2  1.3  0.2]\n",
      " [ 4.6  3.1  1.5  0.2]\n",
      " [ 5.   3.6  1.4  0.2]]\n",
      "[0 1 2]\n"
     ]
    }
   ],
   "source": [
    "print type(iris.data)\n",
    "print iris.data.shape\n",
    "print iris.target.shape\n",
    "print iris.data[0:5]\n",
    "print np.unique(iris.target)"
   ]
  },
  {
   "cell_type": "code",
   "execution_count": 88,
   "metadata": {
    "collapsed": false
   },
   "outputs": [
    {
     "name": "stdout",
     "output_type": "stream",
     "text": [
      "[0 1]\n"
     ]
    }
   ],
   "source": [
    "#make it a binary classification problem instead\n",
    "X = np.copy(iris.data)\n",
    "X = (X - np.average(X,axis=0)) / np.std(X, axis=0)\n",
    "Y = np.copy(iris.target)\n",
    "np.place(Y, Y==2, [0])\n",
    "print np.unique(Y)"
   ]
  },
  {
   "cell_type": "markdown",
   "metadata": {},
   "source": [
    "For Logistic regression, the normal function is this:\n",
    "\n",
    "$$ f(\\beta,X^{(i)}) = \\dfrac{1}{1+e^{-(\\beta \\cdot X^{(i)})}} $$\n",
    "\n",
    "For prediction, push to either 0 or 1\n",
    "\n",
    "$$   \n",
    "d =\n",
    "\\begin{cases}\n",
    "1,  & \\text{if} \\quad f(\\beta,X^{(i)}) \\ge 0.5 \\\\\n",
    "0, & \\text{if} \\quad f(\\beta,X^{(i)}) \\lt 0.5\n",
    "\\end{cases} \n",
    "$$\n",
    "\n",
    "We need a convex cost function.. enter \"cost\" function computed from log-likelyhood\n",
    "$$   \n",
    "cost(f,y) =\n",
    "\\begin{cases}\n",
    "-log(f)  & \\text{if y = 1} \\\\\n",
    "-log(1-f) & \\text{if y = 0}\n",
    "\\end{cases} \n",
    "$$\n",
    "\n",
    "$$ cost(f,y) = -log((1-y)+(2y-1) \\cdot f) $$\n",
    "\n",
    "For the Loss function we can use aggregate errors we need to minimize:\n",
    "$$ L = \\dfrac{1}{m}\\sum_{i=1}^m cost $$"
   ]
  },
  {
   "cell_type": "code",
   "execution_count": 166,
   "metadata": {
    "collapsed": false
   },
   "outputs": [],
   "source": [
    "def f_func(beta,X):\n",
    "    return 1.0/(1.0 + np.exp(-beta.dot(X.transpose())))\n",
    "\n",
    "def d_func(f,cutoff=0.5):\n",
    "    #python function always pass obj by ref_name, array is mutable\n",
    "    return np.where(f>=cutoff,1,0)\n",
    "\n",
    "def cost_ifunc(f,y):\n",
    "    return -math.log1p((1-y)+(2*y-1)*f)\n",
    "\n",
    "cost_func = np.vectorize(cost_ifunc)\n",
    "\n",
    "def grad_func(beta,X,Y):\n",
    "    a = f_func(beta,X)-Y\n",
    "    b = a.dot(X)\n",
    "    return b"
   ]
  },
  {
   "cell_type": "code",
   "execution_count": 167,
   "metadata": {
    "collapsed": false
   },
   "outputs": [
    {
     "name": "stdout",
     "output_type": "stream",
     "text": [
      "[[ 0.59868766  0.2890505 ]]\n",
      "[[1 0]]\n",
      "[[-0.46918308 -0.53704848]]\n",
      "-0.503115780681\n"
     ]
    },
    {
     "data": {
      "text/plain": [
       "array([ 0.09767129, -0.04648568, -0.30848977,  0.20314009])"
      ]
     },
     "execution_count": 167,
     "metadata": {},
     "output_type": "execute_result"
    }
   ],
   "source": [
    "#test\n",
    "test_x = f_func(np.array([[0.1,0.2,0.2,-0.5]]), np.array([[1,3,1,1],[2,3,4,5]]))\n",
    "print test_x\n",
    "print d_func(test_x,0.5)\n",
    "print cost_func(test_x,[1,0])\n",
    "print np.average(cost_func(test_x,[1,0]))\n",
    "t = grad_func(beta,X,Y)\n",
    "t"
   ]
  },
  {
   "cell_type": "markdown",
   "metadata": {},
   "source": [
    "Using gradient descent from this: https://en.wikipedia.org/wiki/Gradient_descent\n",
    "\n",
    "Stepping (where gamma is learning rate):\n",
    "$$\\beta_{n+1} \\leftarrow \\beta_n - {\\gamma \\cdot \\nabla L}$$\n",
    "\n",
    "With a complicated derivation [here](http://feature-space.com/2011/10/28/logistic-cost-function-derivative/), we arrive at the final equation:\n",
    "\n",
    "$$\\beta_{n+1} \\leftarrow \\beta_n - {\\gamma \\cdot \\dfrac{1}{m}\\sum_{i=1}^m\\left(f(\\beta,x^{(i)})-y^{(i)}\\right)\\cdot x_j^{(i)}}$$"
   ]
  },
  {
   "cell_type": "code",
   "execution_count": 117,
   "metadata": {
    "collapsed": false
   },
   "outputs": [
    {
     "name": "stdout",
     "output_type": "stream",
     "text": [
      "0.220726699171\n"
     ]
    }
   ],
   "source": [
    "beta = np.array([0.5,0.5,0.5,0.5])\n",
    "y_prob = f_func(beta,X[0])\n",
    "print y_prob"
   ]
  },
  {
   "cell_type": "markdown",
   "metadata": {},
   "source": [
    "Run it!"
   ]
  },
  {
   "cell_type": "code",
   "execution_count": 179,
   "metadata": {
    "collapsed": false
   },
   "outputs": [
    {
     "name": "stdout",
     "output_type": "stream",
     "text": [
      "-0.388231045571\n",
      "stop at 205\n",
      "[ 0.08103381 -1.06981926  1.30688047 -1.41558835]\n"
     ]
    },
    {
     "data": {
      "text/plain": [
       "<matplotlib.axes._subplots.AxesSubplot at 0x1a8da048>"
      ]
     },
     "execution_count": 179,
     "metadata": {},
     "output_type": "execute_result"
    },
    {
     "data": {
      "image/png": "[encoded data removed]",
      "text/plain": [
       "<matplotlib.figure.Figure at 0x1a8da198>"
      ]
     },
     "metadata": {},
     "output_type": "display_data"
    }
   ],
   "source": [
    "# Gradient Descent method\n",
    "# init beta as an average of Y/Xi\n",
    "learn_rate = 0.01\n",
    "beta = np.array([0.5,0.5,0.5,0.5])\n",
    "y_prob = f_func(beta,X)\n",
    "y_pred = d_func(y_prob)\n",
    "\n",
    "curr_loss = np.average(cost_func(y_prob,Y))\n",
    "loss = []\n",
    "loss.append(curr_loss)\n",
    "print curr_loss\n",
    "\n",
    "for i in range(0,1000):\n",
    "    beta = beta - learn_rate*grad_func(beta,X,Y)\n",
    "    y_prob = f_func(beta,X)\n",
    "    y_pred = d_func(y_prob)\n",
    "    curr_loss = np.average(cost_func(y_prob,Y))\n",
    "    loss.append(curr_loss)\n",
    "    #print 'curr={},prev={},diff={}'.format(curr_loss,loss[-2],loss[-2]-curr_loss)\n",
    "    if (i>10) and ((loss[-2] - curr_loss) < 10**-5): #stopping criterion\n",
    "        print 'stop at {}'.format(i)\n",
    "        break\n",
    "\n",
    "unique, counts = np.unique(Y, return_counts=True)\n",
    "\n",
    "print beta\n",
    "plt.figure()\n",
    "plt.xlabel('no. of run')\n",
    "plt.ylabel('loss function')\n",
    "sns.tsplot(loss)"
   ]
  },
  {
   "cell_type": "code",
   "execution_count": 177,
   "metadata": {
    "collapsed": false
   },
   "outputs": [
    {
     "name": "stdout",
     "output_type": "stream",
     "text": [
      "[[81 16]\n",
      " [19 34]]\n"
     ]
    },
    {
     "data": {
      "text/plain": [
       "<matplotlib.axes._subplots.AxesSubplot at 0x1a558898>"
      ]
     },
     "execution_count": 177,
     "metadata": {},
     "output_type": "execute_result"
    },
    {
     "data": {
      "image/png": "[encoded data removed]",
      "text/plain": [
       "<matplotlib.figure.Figure at 0x19ab2240>"
      ]
     },
     "metadata": {},
     "output_type": "display_data"
    }
   ],
   "source": [
    "from sklearn.metrics import confusion_matrix\n",
    "cm_mat = confusion_matrix(Y,d_func(f_func(beta,X),0.6))\n",
    "print cm_mat.T\n",
    "df_temp = pd.DataFrame(cm_mat.flatten()[np.newaxis].T,columns = ['values'])\n",
    "df_temp = pd.DataFrame(cm_mat.flatten()[np.newaxis].T,columns = ['values'])\n",
    "plt.figure(figsize = (6,4),dpi=600)\n",
    "sns.heatmap(cm_mat.T, cbar=True ,annot=True, fmt=',.0f')\n",
    "plt.xlabel('Truth')\n",
    "plt.ylabel('Predicted')\n"
   ]
  },
  {
   "cell_type": "code",
   "execution_count": 154,
   "metadata": {
    "collapsed": false
   },
   "outputs": [
    {
     "name": "stdout",
     "output_type": "stream",
     "text": [
      "[-0.90068117  1.03205722 -1.3412724  -1.31297673]\n",
      "[0 0 0 0 0 0 0 0 0 0 0 0 0 0 0 0 0 0 0 0 0 0 0 0 0 0 0 0 0 0 0 0 0 0 0 0 0\n",
      " 0 0 0 0 0 0 0 0 0 0 0 0 0 1 1 1 1 1 1 1 1 1 1 1 1 1 1 1 1 1 1 1 1 1 1 1 1\n",
      " 1 1 1 1 1 1 1 1 1 1 1 1 1 1 1 1 1 1 1 1 1 1 1 1 1 1 0 0 0 0 0 0 0 0 0 0 0\n",
      " 0 0 0 0 0 0 0 0 0 0 0 0 0 0 0 0 0 0 0 0 0 0 0 0 0 0 0 0 0 0 0 0 0 0 0 0 0\n",
      " 0 0]\n",
      "[0 1 0 0 0 0 0 0 1 1 0 0 1 1 0 0 0 0 0 0 0 0 0 0 0 1 0 0 0 0 1 0 0 0 1 0 0\n",
      " 1 1 0 0 1 0 0 0 0 0 0 0 0 1 0 1 1 1 1 0 1 1 1 1 0 1 1 1 1 1 1 1 1 0 1 1 1\n",
      " 1 1 1 1 1 1 1 1 1 1 1 0 1 1 1 1 1 1 1 1 1 1 1 1 1 1 0 1 1 1 0 1 1 1 1 0 0\n",
      " 1 0 1 0 0 1 0 1 1 0 0 1 1 0 1 1 0 1 1 1 0 1 1 1 1 0 1 0 0 0 0 1 0 0 0 1 0\n",
      " 0 1]\n",
      "0.255146724964\n"
     ]
    }
   ],
   "source": [
    "print X[0]\n",
    "print Y\n",
    "print y_pred\n",
    "print y_prob[0]"
   ]
  },
  {
   "cell_type": "code",
   "execution_count": 102,
   "metadata": {
    "collapsed": false
   },
   "outputs": [
    {
     "name": "stdout",
     "output_type": "stream",
     "text": [
      "[[ 5.1  3.5  1.4  0.2]\n",
      " [ 4.9  3.   1.4  0.2]\n",
      " [ 4.7  3.2  1.3  0.2]\n",
      " [ 4.6  3.1  1.5  0.2]\n",
      " [ 5.   3.6  1.4  0.2]]\n",
      "[[-0.2  -0.5   0.    0.  ]\n",
      " [-0.2  -0.15 -0.05  0.  ]\n",
      " [-0.15  0.05  0.05  0.  ]\n",
      " [ 0.15  0.2   0.05  0.  ]\n",
      " [ 0.4   0.5  -0.1   0.  ]]\n",
      "[1 2 3 4]\n"
     ]
    }
   ],
   "source": [
    "print X[0:5]\n",
    "print np.gradient(X[0:5],axis=0)\n",
    "print beta"
   ]
  },
  {
   "cell_type": "code",
   "execution_count": 26,
   "metadata": {
    "collapsed": false
   },
   "outputs": [],
   "source": []
  },
  {
   "cell_type": "markdown",
   "metadata": {},
   "source": [
    "Using Newton's optimization method from this: http://www.stat.cmu.edu/~cshalizi/402/lectures/14-logistic-regression/lecture-14.pdf\n",
    "\n",
    "Also this, page 4, cubic iteration: http://www.sztaki.hu/~bozoki/oktatas/nemlinearis/SebahGourdon-Newton.pdf\n",
    "\n",
    "For implementation: https://ipvs.informatik.uni-stuttgart.de/mlr/marc/teaching/13-Optimization/04-secondOrderOpt.pdf\n",
    "\n",
    "For finding optima of f(x) in 1D:\n",
    "$$x_{n+1} \\leftarrow x_n - \\dfrac{f'(x)}{f''(x)}$$\n",
    "For matrix version, hessians all the way:\n",
    "$$x_{n+1} \\leftarrow x_n - \\dfrac{f'(x)}{f''(x)}$$"
   ]
  },
  {
   "cell_type": "code",
   "execution_count": 122,
   "metadata": {
    "collapsed": false
   },
   "outputs": [
    {
     "name": "stdout",
     "output_type": "stream",
     "text": [
      "R Squared  = 1.33\n"
     ]
    }
   ],
   "source": [
    "# Computer R Squared\n",
    "ssreg = np.sum((y_pred-Y.mean())**2)\n",
    "sstot = np.sum((Y-Y.mean())**2)\n",
    "R_sq = ssreg/sstot\n",
    "print 'R Squared  = {:.2f}'.format(R_sq)"
   ]
  },
  {
   "cell_type": "code",
   "execution_count": 123,
   "metadata": {
    "collapsed": false
   },
   "outputs": [
    {
     "data": {
      "text/plain": [
       "<seaborn.axisgrid.JointGrid at 0x10a08c50>"
      ]
     },
     "execution_count": 123,
     "metadata": {},
     "output_type": "execute_result"
    },
    {
     "data": {
      "text/plain": [
       "<matplotlib.figure.Figure at 0x10a08f98>"
      ]
     },
     "metadata": {},
     "output_type": "display_data"
    },
    {
     "data": {
      "image/png": "[encoded data removed]",
      "text/plain": [
       "<matplotlib.figure.Figure at 0x10a509b0>"
      ]
     },
     "metadata": {},
     "output_type": "display_data"
    }
   ],
   "source": [
    "#standardized residual plot\n",
    "res = Y-y_pred\n",
    "res_d = ((1.0/(len(res)-1))*np.sum(res**2))**0.5\n",
    "res_stu = res/res_d\n",
    "\n",
    "plt.figure()\n",
    "grid = sns.JointGrid(x=Y, y=res_stu, space=0, size=6, ratio=50)\n",
    "grid.plot_joint(plt.scatter, color=\"g\")\n",
    "grid.plot_marginals(sns.rugplot, height=1, color=\"g\")\n",
    "grid.set_axis_labels(xlabel=\"Boston house price\",ylabel=\"studentized residues\")"
   ]
  },
  {
   "cell_type": "code",
   "execution_count": 47,
   "metadata": {
    "collapsed": false
   },
   "outputs": [
    {
     "data": {
      "text/plain": [
       "4.9214055276647812"
      ]
     },
     "execution_count": 47,
     "metadata": {},
     "output_type": "execute_result"
    }
   ],
   "source": [
    "res_d"
   ]
  },
  {
   "cell_type": "code",
   "execution_count": 124,
   "metadata": {
    "collapsed": false
   },
   "outputs": [
    {
     "data": {
      "text/plain": [
       "array([ 0.        , -1.78050913,  0.        ,  0.        ,  0.        ,\n",
       "        0.        ,  0.        ,  0.        , -1.78050913,  0.        ])"
      ]
     },
     "execution_count": 124,
     "metadata": {},
     "output_type": "execute_result"
    }
   ],
   "source": [
    "res_stu[0:10]"
   ]
  },
  {
   "cell_type": "code",
   "execution_count": null,
   "metadata": {
    "collapsed": true
   },
   "outputs": [],
   "source": []
  }
 ],
 "metadata": {
  "anaconda-cloud": {},
  "kernelspec": {
   "display_name": "Python 2",
   "language": "python",
   "name": "python2"
  },
  "language_info": {
   "codemirror_mode": {
    "name": "ipython",
    "version": 2
   },
   "file_extension": ".py",
   "mimetype": "text/x-python",
   "name": "python",
   "nbconvert_exporter": "python",
   "pygments_lexer": "ipython2",
   "version": "2.7.12"
  }
 },
 "nbformat": 4,
 "nbformat_minor": 0
}
