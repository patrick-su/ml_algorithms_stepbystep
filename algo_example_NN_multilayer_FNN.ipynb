{
 "cells": [
  {
   "cell_type": "code",
   "execution_count": 1,
   "metadata": {
    "collapsed": true
   },
   "outputs": [],
   "source": [
    "import pandas as pd\n",
    "import numpy as np\n",
    "from random import randint\n",
    "from pandas import Series,DataFrame\n",
    "import seaborn as sns\n",
    "import matplotlib.pyplot as plt\n",
    "import matplotlib\n",
    "import math\n",
    "%matplotlib inline\n",
    "plt.rcParams['figure.figsize'] = (8, 6)\n",
    "plt.rcParams['font.size'] = 14"
   ]
  },
  {
   "cell_type": "code",
   "execution_count": 72,
   "metadata": {
    "collapsed": false
   },
   "outputs": [
    {
     "data": {
      "text/html": [
       "<style>\n",
       "table {float:left}\n",
       "</style>"
      ],
      "text/plain": [
       "<IPython.core.display.HTML object>"
      ]
     },
     "metadata": {},
     "output_type": "display_data"
    }
   ],
   "source": [
    "%%html\n",
    "<style>\n",
    "table {float:left}\n",
    "</style>"
   ]
  },
  {
   "cell_type": "markdown",
   "metadata": {},
   "source": [
    "Using the MNIST digit dataset.\n",
    "\n",
    "Source: http://yann.lecun.com/exdb/mnist/\n",
    "\n",
    "sklearn has nicely [imported](http://scikit-learn.org/stable/modules/generated/sklearn.datasets.load_digits.html#sklearn.datasets.load_digits) it for us.\n",
    "\n",
    "| Classes           | 10            |\n",
    "|-------------------|---------------|\n",
    "| Samples per class | ~180          |\n",
    "| Samples total     | 1797          |\n",
    "| Dimensionality    | 64            |\n",
    "| Features          | integers 0-16 |"
   ]
  },
  {
   "cell_type": "code",
   "execution_count": 106,
   "metadata": {
    "collapsed": false
   },
   "outputs": [
    {
     "data": {
      "text/plain": [
       "<matplotlib.image.AxesImage at 0xf7007f0>"
      ]
     },
     "execution_count": 106,
     "metadata": {},
     "output_type": "execute_result"
    },
    {
     "data": {
      "image/png": "[encoded data removed]",
      "text/plain": [
       "<matplotlib.figure.Figure at 0xf57ea58>"
      ]
     },
     "metadata": {},
     "output_type": "display_data"
    }
   ],
   "source": [
    "test_image = np.zeros((8,8))\n",
    "test_image[0,:4] = 256\n",
    "test_image[1,] = 125\n",
    "plt.matshow(test_image)"
   ]
  },
  {
   "cell_type": "code",
   "execution_count": 3,
   "metadata": {
    "collapsed": false
   },
   "outputs": [
    {
     "name": "stdout",
     "output_type": "stream",
     "text": [
      "<class 'sklearn.datasets.base.Bunch'>\n",
      "[1775, 1248, 1373, 817, 839, 183, 1406, 1627, 1766, 39]\n"
     ]
    },
    {
     "data": {
      "image/png": "[encoded data removed]",
      "text/plain": [
       "<matplotlib.figure.Figure at 0xbd23a90>"
      ]
     },
     "metadata": {},
     "output_type": "display_data"
    }
   ],
   "source": [
    "from sklearn.datasets import load_digits\n",
    "digits = load_digits(n_class=10)\n",
    "print type(digits)\n",
    "\n",
    "import random\n",
    "digits_sample = random.sample(range(0,digits.images.shape[0]),10)\n",
    "print digits_sample\n",
    "\n",
    "#show sample digits\n",
    "plt.rcParams['figure.figsize'] = (12, 4)\n",
    "f, axarr = plt.subplots(2, 5)\n",
    "for j in range(0,axarr.shape[1]):\n",
    "    for i in range(0,axarr.shape[0]):\n",
    "        axarr[i,j].matshow(digits.images[digits_sample[i+j]])\n",
    "plt.show()"
   ]
  },
  {
   "cell_type": "markdown",
   "metadata": {},
   "source": [
    "Multi Layer Feed-Forward Neural Network (in this case, 3 layers [input, 1 hidden, output])\n",
    "\n",
    "Source: https://en.wikipedia.org/wiki/Feedforward_neural_network\n",
    "\n",
    "Source2: http://neuralnetworksanddeeplearning.com/chap1.html\n",
    "\n",
    "The structure is something like the below.\n",
    "\n",
    "In our case, each image have a total of 8x8 = 64 pixels, so using 64 input neurons instead.\n",
    "We can try using 15 hidden neurons.\n",
    "\n",
    "<img src=\"http://neuralnetworksanddeeplearning.com/images/tikz12.png\" style=\"width:500px;\" />\n",
    "\n",
    "Let's define some terms.\n",
    "\n",
    "| symbol       | meaning                                           |\n",
    "|--------------|---------------------------------------------------|\n",
    "| i            | index of input to the neurons                     |\n",
    "| k            | index of the neurons (per layer)                  |\n",
    "| j            | index of data input rows (each digit image)       |\n",
    "| w            | weight vector for neuron connections              |\n",
    "| $w_{i,k}$    | weight connection from i input to k neuron        |\n",
    "| x or X       | vector or array of input data                     |\n",
    "| y or Y       | vector or array of target result (0 or 1)         |\n",
    "| f or f(x,..) | activation function, in this case it's a sigmoid. |\n",
    "| $\\eta$       | learning rate. (pronouce:\"eta\")                   |"
   ]
  },
  {
   "cell_type": "markdown",
   "metadata": {},
   "source": [
    "\n",
    "10-digit multi-classification where probability for each digit's prediction node is\n",
    "\n",
    "$$ f(w,X) = \\dfrac{1}{1+e^{-(w \\cdot X)}} $$\n",
    "\n",
    "(Note: the weight vector \"w\" includes bias component as $w_0$. X will always have first input as a \"1\", so bias is always there.)\n",
    "\n",
    "\n",
    "##### Loss function:\n",
    "\n",
    "Loss function is a mean-square error(MSE).\n",
    "\n",
    "$$ L = \\dfrac{1}{2m}\\sum_{j=1}^m \\bigl\\|\\;f(w,x_j) - y_j\\;\\bigr\\|^2 $$\n",
    "\n",
    "The first [partial derivative](https://www.cs.swarthmore.edu/~meeden/cs81/s10/BackPropDeriv.pdf) is the gradient, in simplified term is:\n",
    "\n",
    "$$ \\Delta w_{i,k,j} = - (y_k-f_{k,j}) \\cdot f_{k,j} \\cdot (1-f_{k,j}) \\cdot x_{i,j}$$\n",
    "\n",
    "$$ \\Delta w_{i,k} = - \\dfrac{1}{m} \\sum_{j=1}^m  (y_k-f_{k,j}) \\cdot f_{k,j} \\cdot (1-f_{k,j}) \\cdot x_{i,j}$$\n",
    "\n",
    "In shorter form, we group the inner part under a new variable \"delta\":\n",
    "\n",
    "$$ \\Delta w_{i,k} = - \\dfrac{1}{m} \\sum_{j=1}^m  \\delta_{k,j} \\cdot x_{i,j}$$\n",
    "\n",
    "Then we can update the w (with learning rate)\n",
    "\n",
    "$$ w_{i,k}(t+1) = w_{i,k}(t) - \\dfrac{\\eta}{m}\\sum_{j=1}^m  \\delta_{k,j} \\cdot x_{i,j}$$\n",
    "\n",
    "Specifically, for the weights from hidden to output layer ($w^{out}$). The input \"$x$\" is actually the result from the lower layer $f^{hid}$.\n",
    "\n",
    "##### w hidden-to-output layer update:\n",
    "\n",
    "$$ w_{i,k}^{out}(t+1) = w_{i,k}^{out}(t) - \\dfrac{\\eta}{m}\\sum_{j=1}^m  \\delta_{k,j}^{out} \\cdot f_{i,k}^{hid}$$\n"
   ]
  },
  {
   "cell_type": "markdown",
   "metadata": {},
   "source": [
    "Moving on to the lower layer -- from input to hidden. \n",
    "\n",
    "Here comes the [backpropagation](https://www.cs.swarthmore.edu/~meeden/cs81/s10/BackPropDeriv.pdf) --summing back from the higher layer:\n",
    "\n",
    "$$ \\Delta w_{i,k}^{hid} = -\\dfrac{1}{m} \\sum_{j=1}^m \\bigl\\{ \\bigl(\\sum_{k_{out}=1}^n  \\delta_{k_{out},j}^{out} \\cdot w_{k_{hid},k_{out}}^{out}(t) \\bigr) \\cdot f_{k,j}^{hid} \\cdot (1-f_{k,j}^{hid}) \\cdot x_{i,j} \\bigr\\}$$\n",
    "\n",
    "Again, we can shorten it to:\n",
    "\n",
    "$$ \\Delta w_{i,k}^{hid} = -\\dfrac{1}{m} \\sum_{j=1}^m \\delta_{k,j}^{hid} \\cdot x_{i,j} $$\n",
    "\n",
    "And we can update w as such:\n",
    "\n",
    "##### w input-to-hidden layer update:\n",
    "\n",
    "$$ w_i^{hid}(t+1) = w_i^{hid}(t) - \\dfrac{\\eta}{m}\\sum_{j=1}^m  \\delta_{i,j}^{hid} \\cdot x_{i,j}$$\n",
    "\n",
    "For step-by-step calculation, [this](https://mattmazur.com/2015/03/17/a-step-by-step-backpropagation-example/) is a really good writeup.\n",
    "\n",
    "---\n",
    "\n",
    "#### Optimization method\n",
    "\n",
    "We will use \"mini-batch stochastic gradient descent\"\n",
    "\n",
    "mini-batch & stochastic means we will sample n datapoints and compute an aggregate gradient to update the weights.\n",
    "\n"
   ]
  },
  {
   "cell_type": "code",
   "execution_count": 773,
   "metadata": {
    "collapsed": false
   },
   "outputs": [],
   "source": [
    "#set size of input, features, hidden, target\n",
    "sample_size = digits.images.shape[0]\n",
    "feature_size = digits.images.shape[1]*digits.images.shape[2]\n",
    "target_size = 10\n",
    "hidden_size = 15\n",
    "\n",
    "#make a flat 10 output with all zeros\n",
    "Y = np.zeros((sample_size,10))\n",
    "for j in range(0,sample_size):\n",
    "    Y[j][digits.target[j]] = 1\n",
    "\n",
    "#make a row of 64 input features instead of 8x8\n",
    "X = digits.images.reshape(sample_size,feature_size)\n",
    "Xb = np.insert(X,0,1,axis=1) #add bias input, always activated"
   ]
  },
  {
   "cell_type": "code",
   "execution_count": 774,
   "metadata": {
    "collapsed": false
   },
   "outputs": [],
   "source": [
    "def sigmoid(w,X):\n",
    "    a = 1.0/(1.0 + np.exp(-w.dot(X.transpose())))\n",
    "    return a.transpose()\n",
    "\n",
    "def loss_func(Y,y_pred):\n",
    "    return 0.5*np.average((Y-y_pred)**2) #element-wise operation then aggregate"
   ]
  },
  {
   "cell_type": "code",
   "execution_count": 775,
   "metadata": {
    "collapsed": false
   },
   "outputs": [],
   "source": [
    "#initialize the rest of the terms\n",
    "# for weights --> index = (output node , input node)\n",
    "w_hid = np.full((hidden_size,feature_size+1),0.1) #don't forget the bias\n",
    "w_out = np.full((target_size,hidden_size+1,),0.1) #don't forget the bias\n",
    "\n",
    "#for f --> index = (data row , node)\n",
    "f_hid = np.zeros((sample_size,hidden_size))\n",
    "f_out = np.zeros((sample_size,target_size))\n",
    "\n",
    "#for deltas  --> index = (data row , node)\n",
    "delta_hid = np.zeros((sample_size,hidden_size))\n",
    "delta_out = np.zeros((sample_size,target_size))"
   ]
  },
  {
   "cell_type": "code",
   "execution_count": 784,
   "metadata": {
    "collapsed": true
   },
   "outputs": [],
   "source": [
    "#verification with dummy data\n",
    "#checking numbers from https://mattmazur.com/2015/03/17/a-step-by-step-backpropagation-example/\n",
    "sample_size = 1\n",
    "X = np.array([[0.05,0.1]])\n",
    "Xb = np.array([[1, 0.05,0.1]])\n",
    "Y = np.array([0.01,0.99])\n",
    "w_hid = np.array([[0.35,0.15,0.20],[0.35,0.25,0.3]])\n",
    "w_out = np.array([[0.60,0.40,0.45],[0.60,0.50,0.55]])\n",
    "w_out_bef = w_out.copy()"
   ]
  },
  {
   "cell_type": "code",
   "execution_count": 789,
   "metadata": {
    "collapsed": false
   },
   "outputs": [
    {
     "name": "stdout",
     "output_type": "stream",
     "text": [
      "start_loss = 0.00278056022735\n"
     ]
    },
    {
     "data": {
      "text/plain": [
       "<matplotlib.axes._subplots.AxesSubplot at 0x138259e8>"
      ]
     },
     "execution_count": 789,
     "metadata": {},
     "output_type": "execute_result"
    },
    {
     "data": {
      "image/png": "[encoded data removed]",
      "text/plain": [
       "<matplotlib.figure.Figure at 0x13841c18>"
      ]
     },
     "metadata": {},
     "output_type": "display_data"
    }
   ],
   "source": [
    "#run configuration\n",
    "max_epoch = 1000\n",
    "min_loss_criterion = -10**-5\n",
    "\n",
    "#doing 1st forward pass to calculate loss\n",
    "f_hid = sigmoid(w_hid,Xb)\n",
    "f_hid_b = np.insert(f_hid,0,1,axis=1) #bias activation for next layer\n",
    "#print 'f_hid_b = '\n",
    "#print f_hid_b\n",
    "#print 'w_out = '\n",
    "#print w_out\n",
    "f_out = sigmoid(w_out,f_hid_b)\n",
    "#print f_out\n",
    "curr_loss = loss_func(Y,f_out)\n",
    "loss = []\n",
    "loss.append(curr_loss)\n",
    "print 'start_loss = {}'.format(curr_loss*2)\n",
    "\n",
    "learning_rate = 0.5\n",
    "learning_rate_bias = 0.5\n",
    "\n",
    "for i in range(0,max_epoch):\n",
    "    #update the weights of output layer\n",
    "    delta_out = (f_out - Y)*(f_out)*(1-f_out) #element-wise operation \n",
    "    #print 'delta_out = ',\n",
    "    #print delta_out[0:4]\n",
    "    #print 'f_hid = ',\n",
    "    #print f_hid[0:4]\n",
    "    wgrad_out = (1.0/sample_size)*(delta_out.T).dot(f_hid) #dot operation already sums it up\n",
    "    #print 'wgrad_out = '\n",
    "    #print wgrad_out[0:3]\n",
    "    #print 'w_out_before = '\n",
    "    #print w_out[0:3]\n",
    "    w_out_bef = w_out.copy()\n",
    "    w_out[:,1:] = w_out[:,1:] -learning_rate*(wgrad_out)\n",
    "    w_out[:,0] = w_out[:,0] -learning_rate_bias*(1.0/sample_size)*np.sum(delta_out,axis=0)*1.0\n",
    "    #print 'w_out_after = '\n",
    "    #print w_out\n",
    "    #print '---'\n",
    "\n",
    "    #update the weights of hidden layer\n",
    "    #print 'f_hid = '\n",
    "    #print f_hid \n",
    "    #print 't1 = '\n",
    "    #print delta_out.dot(w_out_bef[:,1:])\n",
    "    #print 't2 = '\n",
    "    #print (f_hid)*(1-f_hid)\n",
    "    delta_hid = delta_out.dot(w_out_bef[:,1:])*(f_hid)*(1-f_hid) #dot then element-wise operation \n",
    "    #print 'delta_hid = '\n",
    "    #print delta_hid\n",
    "    #print 'Xb = '\n",
    "    #print Xb\n",
    "    wgrad_hid = (1.0/sample_size)*delta_hid.transpose().dot(Xb)\n",
    "    #print 'wgrad_hid = '\n",
    "    #print wgrad_hid\n",
    "    w_hid = w_hid -learning_rate*wgrad_hid\n",
    "    #print 'w_hid = '\n",
    "    #print w_hid\n",
    "    \n",
    "    #re-calculate loss\n",
    "    f_hid = sigmoid(w_hid,Xb)\n",
    "    f_hid_b = np.insert(f_hid,0,1,axis=1) #bias activation for next layer\n",
    "    f_out = sigmoid(w_out,f_hid_b)\n",
    "    curr_loss = loss_func(Y,f_out)\n",
    "    loss.append(curr_loss)\n",
    "\n",
    "    #stopping criterion\n",
    "    if (i>10) and ((loss[-2] - curr_loss) < min_loss_criterion): \n",
    "        print 'stop at {}'.format(i)\n",
    "        break\n",
    "\n",
    "plt.figure()\n",
    "plt.xlabel('no. of run')\n",
    "plt.ylabel('loss function')\n",
    "sns.tsplot(loss)"
   ]
  },
  {
   "cell_type": "code",
   "execution_count": 790,
   "metadata": {
    "collapsed": false
   },
   "outputs": [
    {
     "name": "stdout",
     "output_type": "stream",
     "text": [
      "[[ 0.02472794  0.97574449]]\n",
      "[1]\n",
      "[0 1 2 3]\n"
     ]
    }
   ],
   "source": [
    "print f_out[0:4]\n",
    "y_pred = np.argmax(f_out,axis=1)\n",
    "print y_pred[0:4]\n",
    "print digits.target[0:4]"
   ]
  },
  {
   "cell_type": "code",
   "execution_count": 791,
   "metadata": {
    "collapsed": false
   },
   "outputs": [
    {
     "ename": "ValueError",
     "evalue": "Found arrays with inconsistent numbers of samples: [   1 1797]",
     "output_type": "error",
     "traceback": [
      "\u001b[1;31m---------------------------------------------------------------------------\u001b[0m",
      "\u001b[1;31mValueError\u001b[0m                                Traceback (most recent call last)",
      "\u001b[1;32m<ipython-input-791-855ab04d9930>\u001b[0m in \u001b[0;36m<module>\u001b[1;34m()\u001b[0m\n\u001b[0;32m      3\u001b[0m \u001b[1;33m\u001b[0m\u001b[0m\n\u001b[0;32m      4\u001b[0m \u001b[1;32mfrom\u001b[0m \u001b[0msklearn\u001b[0m\u001b[1;33m.\u001b[0m\u001b[0mmetrics\u001b[0m \u001b[1;32mimport\u001b[0m \u001b[0mconfusion_matrix\u001b[0m\u001b[1;33m\u001b[0m\u001b[0m\n\u001b[1;32m----> 5\u001b[1;33m \u001b[0mcm_mat\u001b[0m \u001b[1;33m=\u001b[0m \u001b[0mconfusion_matrix\u001b[0m\u001b[1;33m(\u001b[0m\u001b[0mdigits\u001b[0m\u001b[1;33m.\u001b[0m\u001b[0mtarget\u001b[0m\u001b[1;33m,\u001b[0m\u001b[0my_pred\u001b[0m\u001b[1;33m)\u001b[0m\u001b[1;33m\u001b[0m\u001b[0m\n\u001b[0m\u001b[0;32m      6\u001b[0m \u001b[1;32mprint\u001b[0m \u001b[0mcm_mat\u001b[0m\u001b[1;33m.\u001b[0m\u001b[0mT\u001b[0m\u001b[1;33m\u001b[0m\u001b[0m\n\u001b[0;32m      7\u001b[0m \u001b[0mdf_temp\u001b[0m \u001b[1;33m=\u001b[0m \u001b[0mpd\u001b[0m\u001b[1;33m.\u001b[0m\u001b[0mDataFrame\u001b[0m\u001b[1;33m(\u001b[0m\u001b[0mcm_mat\u001b[0m\u001b[1;33m.\u001b[0m\u001b[0mflatten\u001b[0m\u001b[1;33m(\u001b[0m\u001b[1;33m)\u001b[0m\u001b[1;33m[\u001b[0m\u001b[0mnp\u001b[0m\u001b[1;33m.\u001b[0m\u001b[0mnewaxis\u001b[0m\u001b[1;33m]\u001b[0m\u001b[1;33m.\u001b[0m\u001b[0mT\u001b[0m\u001b[1;33m,\u001b[0m\u001b[0mcolumns\u001b[0m \u001b[1;33m=\u001b[0m \u001b[1;33m[\u001b[0m\u001b[1;34m'values'\u001b[0m\u001b[1;33m]\u001b[0m\u001b[1;33m)\u001b[0m\u001b[1;33m\u001b[0m\u001b[0m\n",
      "\u001b[1;32mC:\\Users\\Patrick.Suwanvithaya\\AppData\\Local\\Continuum\\Anaconda2\\lib\\site-packages\\sklearn\\metrics\\classification.pyc\u001b[0m in \u001b[0;36mconfusion_matrix\u001b[1;34m(y_true, y_pred, labels)\u001b[0m\n\u001b[0;32m    231\u001b[0m \u001b[1;33m\u001b[0m\u001b[0m\n\u001b[0;32m    232\u001b[0m     \"\"\"\n\u001b[1;32m--> 233\u001b[1;33m     \u001b[0my_type\u001b[0m\u001b[1;33m,\u001b[0m \u001b[0my_true\u001b[0m\u001b[1;33m,\u001b[0m \u001b[0my_pred\u001b[0m \u001b[1;33m=\u001b[0m \u001b[0m_check_targets\u001b[0m\u001b[1;33m(\u001b[0m\u001b[0my_true\u001b[0m\u001b[1;33m,\u001b[0m \u001b[0my_pred\u001b[0m\u001b[1;33m)\u001b[0m\u001b[1;33m\u001b[0m\u001b[0m\n\u001b[0m\u001b[0;32m    234\u001b[0m     \u001b[1;32mif\u001b[0m \u001b[0my_type\u001b[0m \u001b[1;32mnot\u001b[0m \u001b[1;32min\u001b[0m \u001b[1;33m(\u001b[0m\u001b[1;34m\"binary\"\u001b[0m\u001b[1;33m,\u001b[0m \u001b[1;34m\"multiclass\"\u001b[0m\u001b[1;33m)\u001b[0m\u001b[1;33m:\u001b[0m\u001b[1;33m\u001b[0m\u001b[0m\n\u001b[0;32m    235\u001b[0m         \u001b[1;32mraise\u001b[0m \u001b[0mValueError\u001b[0m\u001b[1;33m(\u001b[0m\u001b[1;34m\"%s is not supported\"\u001b[0m \u001b[1;33m%\u001b[0m \u001b[0my_type\u001b[0m\u001b[1;33m)\u001b[0m\u001b[1;33m\u001b[0m\u001b[0m\n",
      "\u001b[1;32mC:\\Users\\Patrick.Suwanvithaya\\AppData\\Local\\Continuum\\Anaconda2\\lib\\site-packages\\sklearn\\metrics\\classification.pyc\u001b[0m in \u001b[0;36m_check_targets\u001b[1;34m(y_true, y_pred)\u001b[0m\n\u001b[0;32m     70\u001b[0m     \u001b[0my_pred\u001b[0m \u001b[1;33m:\u001b[0m \u001b[0marray\u001b[0m \u001b[1;32mor\u001b[0m \u001b[0mindicator\u001b[0m \u001b[0mmatrix\u001b[0m\u001b[1;33m\u001b[0m\u001b[0m\n\u001b[0;32m     71\u001b[0m     \"\"\"\n\u001b[1;32m---> 72\u001b[1;33m     \u001b[0mcheck_consistent_length\u001b[0m\u001b[1;33m(\u001b[0m\u001b[0my_true\u001b[0m\u001b[1;33m,\u001b[0m \u001b[0my_pred\u001b[0m\u001b[1;33m)\u001b[0m\u001b[1;33m\u001b[0m\u001b[0m\n\u001b[0m\u001b[0;32m     73\u001b[0m     \u001b[0mtype_true\u001b[0m \u001b[1;33m=\u001b[0m \u001b[0mtype_of_target\u001b[0m\u001b[1;33m(\u001b[0m\u001b[0my_true\u001b[0m\u001b[1;33m)\u001b[0m\u001b[1;33m\u001b[0m\u001b[0m\n\u001b[0;32m     74\u001b[0m     \u001b[0mtype_pred\u001b[0m \u001b[1;33m=\u001b[0m \u001b[0mtype_of_target\u001b[0m\u001b[1;33m(\u001b[0m\u001b[0my_pred\u001b[0m\u001b[1;33m)\u001b[0m\u001b[1;33m\u001b[0m\u001b[0m\n",
      "\u001b[1;32mC:\\Users\\Patrick.Suwanvithaya\\AppData\\Local\\Continuum\\Anaconda2\\lib\\site-packages\\sklearn\\utils\\validation.pyc\u001b[0m in \u001b[0;36mcheck_consistent_length\u001b[1;34m(*arrays)\u001b[0m\n\u001b[0;32m    174\u001b[0m     \u001b[1;32mif\u001b[0m \u001b[0mlen\u001b[0m\u001b[1;33m(\u001b[0m\u001b[0muniques\u001b[0m\u001b[1;33m)\u001b[0m \u001b[1;33m>\u001b[0m \u001b[1;36m1\u001b[0m\u001b[1;33m:\u001b[0m\u001b[1;33m\u001b[0m\u001b[0m\n\u001b[0;32m    175\u001b[0m         raise ValueError(\"Found arrays with inconsistent numbers of samples: \"\n\u001b[1;32m--> 176\u001b[1;33m                          \"%s\" % str(uniques))\n\u001b[0m\u001b[0;32m    177\u001b[0m \u001b[1;33m\u001b[0m\u001b[0m\n\u001b[0;32m    178\u001b[0m \u001b[1;33m\u001b[0m\u001b[0m\n",
      "\u001b[1;31mValueError\u001b[0m: Found arrays with inconsistent numbers of samples: [   1 1797]"
     ]
    }
   ],
   "source": [
    "#get the prediction to compare with target\n",
    "y_pred = np.argmax(f_out,axis=1)\n",
    "\n",
    "from sklearn.metrics import confusion_matrix\n",
    "cm_mat = confusion_matrix(digits.target,y_pred)\n",
    "print cm_mat.T\n",
    "df_temp = pd.DataFrame(cm_mat.flatten()[np.newaxis].T,columns = ['values'])\n",
    "plt.figure(figsize = (6,4),dpi=600)\n",
    "sns.heatmap(cm_mat.T, cbar=True ,annot=True, fmt=',.0f')\n",
    "plt.xlabel('Truth')\n",
    "plt.ylabel('Predicted')"
   ]
  },
  {
   "cell_type": "code",
   "execution_count": null,
   "metadata": {
    "collapsed": true
   },
   "outputs": [],
   "source": []
  },
  {
   "cell_type": "code",
   "execution_count": 157,
   "metadata": {
    "collapsed": false
   },
   "outputs": [
    {
     "data": {
      "text/plain": [
       "array([[ 4,  9, 16],\n",
       "       [ 4,  4,  4]])"
      ]
     },
     "execution_count": 157,
     "metadata": {},
     "output_type": "execute_result"
    }
   ],
   "source": [
    "t1 = np.array([[3,4,5],[6,7,8]])\n",
    "t2 = np.array([[1,1,1],[4,5,6]])\n",
    "(t1-t2)**2"
   ]
  },
  {
   "cell_type": "code",
   "execution_count": 4,
   "metadata": {
    "collapsed": false
   },
   "outputs": [],
   "source": [
    "def f_func(w,x):\n",
    "    result = w.dot(x.transpose())\n",
    "    return np.where(result>0,1,0)\n",
    "\n",
    "def loss_func(f,y):\n",
    "    return np.average(np.abs(f - y))"
   ]
  },
  {
   "cell_type": "code",
   "execution_count": 5,
   "metadata": {
    "collapsed": false
   },
   "outputs": [
    {
     "ename": "NameError",
     "evalue": "name 'X' is not defined",
     "output_type": "error",
     "traceback": [
      "\u001b[1;31m---------------------------------------------------------------------------\u001b[0m",
      "\u001b[1;31mNameError\u001b[0m                                 Traceback (most recent call last)",
      "\u001b[1;32m<ipython-input-5-1fc1ce1117d4>\u001b[0m in \u001b[0;36m<module>\u001b[1;34m()\u001b[0m\n\u001b[0;32m      1\u001b[0m \u001b[1;31m#initialize everything.\u001b[0m\u001b[1;33m\u001b[0m\u001b[1;33m\u001b[0m\u001b[0m\n\u001b[0;32m      2\u001b[0m \u001b[0mw\u001b[0m \u001b[1;33m=\u001b[0m \u001b[0mnp\u001b[0m\u001b[1;33m.\u001b[0m\u001b[0marray\u001b[0m\u001b[1;33m(\u001b[0m\u001b[1;33m[\u001b[0m\u001b[1;36m0.01\u001b[0m \u001b[1;33m,\u001b[0m \u001b[1;36m0.01\u001b[0m\u001b[1;33m,\u001b[0m \u001b[1;36m0.01\u001b[0m\u001b[1;33m]\u001b[0m\u001b[1;33m)\u001b[0m \u001b[1;31m# including bias as weight (w0 in the first column)\u001b[0m\u001b[1;33m\u001b[0m\u001b[0m\n\u001b[1;32m----> 3\u001b[1;33m \u001b[0mXb\u001b[0m \u001b[1;33m=\u001b[0m \u001b[0mnp\u001b[0m\u001b[1;33m.\u001b[0m\u001b[0minsert\u001b[0m\u001b[1;33m(\u001b[0m\u001b[0mX\u001b[0m\u001b[1;33m,\u001b[0m\u001b[1;36m0\u001b[0m\u001b[1;33m,\u001b[0m\u001b[1;36m1\u001b[0m\u001b[1;33m,\u001b[0m\u001b[0maxis\u001b[0m\u001b[1;33m=\u001b[0m\u001b[1;36m1\u001b[0m\u001b[1;33m)\u001b[0m \u001b[1;31m#add bias input, always activated\u001b[0m\u001b[1;33m\u001b[0m\u001b[0m\n\u001b[0m\u001b[0;32m      4\u001b[0m \u001b[1;33m\u001b[0m\u001b[0m\n\u001b[0;32m      5\u001b[0m \u001b[1;31m#run till convergence\u001b[0m\u001b[1;33m\u001b[0m\u001b[1;33m\u001b[0m\u001b[0m\n",
      "\u001b[1;31mNameError\u001b[0m: name 'X' is not defined"
     ]
    }
   ],
   "source": [
    "#initialize everything.\n",
    "w = np.array([0.01 , 0.01, 0.01]) # including bias as weight (w0 in the first column)\n",
    "Xb = np.insert(X,0,1,axis=1) #add bias input, always activated\n",
    "\n",
    "#run till convergence\n",
    "y_pred = f_func(w,Xb)\n",
    "curr_loss = loss_func(y_pred,Y)\n",
    "loss = []\n",
    "loss.append(curr_loss)\n",
    "\n",
    "for i in range(0,100):\n",
    "    \n",
    "    #iterate over each j input vector\n",
    "    for j in range(0,Y.shape[0]): \n",
    "        y_pred[j] = f_func(w,Xb[j])\n",
    "        w = w + (Y[j] - y_pred[j])*Xb[j]\n",
    "    \n",
    "    #evaluate aggregate loss function    \n",
    "    y_pred = f_func(w,Xb)\n",
    "    curr_loss = loss_func(y_pred,Y)\n",
    "    loss.append(curr_loss)\n",
    "    \n",
    "    #stopping criterion\n",
    "    if (i>10) and ((loss[-2] - curr_loss) < 10**-5): \n",
    "        print 'stop at {}'.format(i)\n",
    "        break\n",
    "\n",
    "print w\n",
    "plt.figure()\n",
    "plt.xlabel('no. of run')\n",
    "plt.ylabel('loss function')\n",
    "plt.title('Loss function minimization over time')\n",
    "sns.tsplot(loss)"
   ]
  },
  {
   "cell_type": "code",
   "execution_count": null,
   "metadata": {
    "collapsed": false
   },
   "outputs": [],
   "source": [
    "from sklearn.metrics import confusion_matrix\n",
    "cm_mat = confusion_matrix(Y,y_pred)\n",
    "print cm_mat.T\n",
    "df_temp = pd.DataFrame(cm_mat.flatten()[np.newaxis].T,columns = ['values'])\n",
    "plt.figure(figsize = (6,4),dpi=600)\n",
    "sns.heatmap(cm_mat.T, cbar=True ,annot=True, fmt=',.0f')\n",
    "plt.xlabel('Truth')\n",
    "plt.ylabel('Predicted')\n",
    "plt.title('confusion matrix')"
   ]
  },
  {
   "cell_type": "code",
   "execution_count": null,
   "metadata": {
    "collapsed": false
   },
   "outputs": [],
   "source": [
    "#plot decision boundary\n",
    "\n",
    "plt.scatter(X[:, 0], X[:, 1], marker='o', c=Y)\n",
    "\n",
    "x_line = np.array([np.min(X[:, 0]),np.max(X[:, 0])]) #this is \"x0\"\n",
    "y_line = -(w[0] + w[1]*x_line)/w[2] #plot y_line based on where it makes \"x1\" becomes zero\n",
    "plt.plot(x_line,y_line)\n",
    "plt.show()\n",
    "print y_line"
   ]
  },
  {
   "cell_type": "code",
   "execution_count": null,
   "metadata": {
    "collapsed": true
   },
   "outputs": [],
   "source": []
  }
 ],
 "metadata": {
  "anaconda-cloud": {},
  "kernelspec": {
   "display_name": "Python [Root]",
   "language": "python",
   "name": "Python [Root]"
  },
  "language_info": {
   "codemirror_mode": {
    "name": "ipython",
    "version": 2
   },
   "file_extension": ".py",
   "mimetype": "text/x-python",
   "name": "python",
   "nbconvert_exporter": "python",
   "pygments_lexer": "ipython2",
   "version": "2.7.11"
  }
 },
 "nbformat": 4,
 "nbformat_minor": 0
}
