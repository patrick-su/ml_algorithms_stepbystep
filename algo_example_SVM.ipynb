{
 "cells": [
  {
   "cell_type": "markdown",
   "metadata": {},
   "source": [
    "## Support Vector Machines (SVM)\n",
    "\n",
    "SVM is a *supervised learning* classification and regression algorithm based on transforming the input data and slice them with a straight line (hyper-plane).\n",
    "\n",
    "The images I found on reddit post is really clear an explaining this point.\n",
    "\n",
    "**Problem:** trying to seperate 2 classes that is not linearing seperable in current coordinate (input space).\n",
    "<img src='http://i.imgur.com/R9967.png' height='300' width='300'/>\n",
    "\n",
    "**Step 1:** using some kernel function to transform the coordinate to a new feature space.\n",
    "<img src='http://i.imgur.com/WuxyO.png' height='400' width='400'/>\n",
    "\n",
    "**Step 2:** using hyperplane to seperate the 2 classes as best as we could -- meaning by the widest margin. \n",
    "\n",
    "The closests data points to the plane are called \"support vectors\".\n",
    "\n",
    "<img src=http://docs.opencv.org/2.4/_images/optimal-hyperplane.png height='250' width='250'/>\n"
   ]
  },
  {
   "cell_type": "code",
   "execution_count": null,
   "metadata": {
    "collapsed": true
   },
   "outputs": [],
   "source": []
  }
 ],
 "metadata": {
  "anaconda-cloud": {},
  "kernelspec": {
   "display_name": "Python [Root]",
   "language": "python",
   "name": "Python [Root]"
  },
  "language_info": {
   "codemirror_mode": {
    "name": "ipython",
    "version": 2
   },
   "file_extension": ".py",
   "mimetype": "text/x-python",
   "name": "python",
   "nbconvert_exporter": "python",
   "pygments_lexer": "ipython2",
   "version": "2.7.11"
  }
 },
 "nbformat": 4,
 "nbformat_minor": 0
}
