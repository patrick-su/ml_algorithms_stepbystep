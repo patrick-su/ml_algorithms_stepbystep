{
 "cells": [
  {
   "cell_type": "code",
   "execution_count": 1,
   "metadata": {
    "collapsed": true
   },
   "outputs": [],
   "source": [
    "import pandas as pd\n",
    "import numpy as np\n",
    "from random import randint\n",
    "from pandas import Series,DataFrame\n",
    "import seaborn as sns\n",
    "import matplotlib.pyplot as plt\n",
    "import matplotlib\n",
    "import math\n",
    "%matplotlib inline\n",
    "plt.rcParams['figure.figsize'] = (8, 6)\n",
    "plt.rcParams['font.size'] = 14"
   ]
  },
  {
   "cell_type": "code",
   "execution_count": 2,
   "metadata": {
    "collapsed": false
   },
   "outputs": [
    {
     "data": {
      "text/html": [
       "<style>\n",
       "table {float:left}\n",
       "</style>"
      ],
      "text/plain": [
       "<IPython.core.display.HTML object>"
      ]
     },
     "metadata": {},
     "output_type": "display_data"
    }
   ],
   "source": [
    "%%html\n",
    "<style>\n",
    "table {float:left}\n",
    "</style>"
   ]
  },
  {
   "cell_type": "code",
   "execution_count": 1,
   "metadata": {
    "collapsed": false
   },
   "outputs": [
    {
     "name": "stdout",
     "output_type": "stream",
     "text": [
      "<class 'sklearn.datasets.base.Bunch'>\n"
     ]
    }
   ],
   "source": [
    "from sklearn.datasets import load_digits\n",
    "digits = load_digits(n_class=10)\n",
    "print type(digits)"
   ]
  },
  {
   "cell_type": "markdown",
   "metadata": {},
   "source": [
    "---\n",
    "\n",
    "(Continuing from [here](https://github.com/simpleblob/ml_algorithms_stepbystep/blob/master/algo_example_NN_multilayer_FNN.ipynb))\n",
    "\n",
    "---\n",
    "\n",
    "### Regularization\n",
    "\n",
    "Source: http://www.deeplearningbook.org/contents/regularization.html\n",
    "\n",
    "Source2: http://neuralnetworksanddeeplearning.com/chap3.html\n",
    "\n",
    "Source3: http://www.machinelearning.org/proceedings/icml2004/papers/354.pdf\n",
    "\n",
    "Before moving on to more and more complex NN models, I think it's a good idea we tackle a fundamental problem of all models first -- overfitting.\n",
    "\n",
    "Model tends to overfit, the more data we throw at it, the more features and points it can use to mimic a pattern, regardless if that pattern is really signal or noise.\n",
    "\n",
    "#### Example of model trying too hard (blue line)\n",
    "<img src=\"https://upload.wikimedia.org/wikipedia/commons/6/68/Overfitted_Data.png\" style=\"width:400px;\" align=\"left\" />\n",
    "<div style=\"clear:both;\"></div>\n",
    "---\n",
    "\n",
    "There are many kind of promising approaches to solve this problem, the technical term for this is \"regularization\" -- meaning something like \"making a model more regular/general and not too specific\".\n",
    "\n",
    "#### Some regularization techniques \n",
    "\n",
    "These are the ones we will go over today\n",
    "1. **L1,L2 regularization** - adding some term to the loss function to penalize overfitting\n",
    "2. **Early stopping** - stopping the model learning before it overfits too much\n",
    "3. **Dropout** - removing some NN nodes to make for a simpler model\n",
    "\n",
    "We will be using this Loss function as a base to build on.\n",
    "\n",
    "$$ L_{base} = \\dfrac{1}{2m}\\sum_{j=1}^m \\bigl\\|\\;f(w,x_j) - y_j\\;\\bigr\\|^2 $$\n",
    "\n",
    "---"
   ]
  },
  {
   "cell_type": "markdown",
   "metadata": {},
   "source": [
    "### L2 Regularization\n",
    "##### a.k.a. ridge regression, Tikhonov regularization\n",
    "\n",
    "The most common type of regularization. we add a penalty to the loss function using square of the weights. In effect we penalty the weights with \"peak\" values, preferring all weight have a closer magnitude to each other.\n",
    "\n",
    "$$ L = L_{base} + \\dfrac{\\lambda}{2m}\\sum w^2 $$\n",
    "\n",
    "where $\\lambda$ is a scaling variable called \"regularization parameter\"\n",
    "\n",
    "Due to the loss function change, our gradient update will change as well, with additional term:\n",
    "\n",
    "$$ w(t+1) = w(t) - \\eta \\cdot \\Delta w  - \\bigl( \\dfrac{\\eta \\cdot \\lambda}{m} w(t) \\bigr)$$\n",
    "\n",
    "we can simplify into\n",
    "\n",
    "$$ w(t+1) = \\bigl( 1 -  \\dfrac{\\eta \\cdot \\lambda}{m} \\bigr) w(t)  - \\eta \\cdot \\Delta w  $$\n",
    "\n",
    "Do note that the gradient update for bias component is still the same, affected by L2.\n",
    "\n",
    "### L1 Regularization\n",
    "\n",
    "Instead of squaring the weights, we use absolute value instead.\n",
    "\n",
    "$$ L = L_{base} + \\dfrac{\\lambda}{2m}\\sum \\left|w \\right| $$\n",
    "\n",
    "$$ w(t+1) = w(t) - \\dfrac{\\eta \\cdot \\lambda}{m} \\bigl| w(t) \\bigr|  - \\eta \\cdot \\Delta w  $$\n",
    "\n",
    "In practice, L2 almost always [beat L1](https://www.quora.com/What-is-the-difference-between-L1-and-L2-regularization/answer/Xavier-Amatriain?srid=uX9I) in regularization performance. So we are going to code just L2 here.\n",
    "\n",
    "---"
   ]
  },
  {
   "cell_type": "markdown",
   "metadata": {},
   "source": [
    "\n",
    "### Early stopping\n",
    "\n",
    "we actually implemented this in the code already as a stopping criteria. For the below code, we will replace with this check: if no improvement in 10 epoch, stop.\n",
    "\n",
    "### Dropout\n",
    "\n",
    "This method concept is similar to doing ensemble models (ie. randomforest) with NN. \n",
    "\n",
    "Here are the steps:\n",
    "1. Pick some nodes at random\n",
    "2. remove them from our NN \n",
    "3. train the models with mini-batch of our data\n",
    "4. update the weights with our aggregate gradients\n",
    "5. repeat step 1\n",
    "\n",
    "So effectively, we are training NN with different set of nodes/structures, and then aggregate the result.\n",
    "\n",
    "---"
   ]
  },
  {
   "cell_type": "markdown",
   "metadata": {},
   "source": [
    "### Model validation\n",
    "\n",
    "Previously, we didn't seperate the data into training and test data. But for this topic, we need that in order to see the overfitting problem and improvement.\n",
    "\n",
    "We will split data randomly into 80/20 train/test.\n",
    "\n",
    "---\n",
    "\n",
    "#### Optimization method\n",
    "\n",
    "we are going just sum up the deltas from all the data (all 1,700 of them) and update the weights in one go. Since it's a matrix operation, the speed is pretty fast.\n",
    "\n",
    "I was considering doing mini-batch and other tricks, but for this Notebook I just want a clear step-by-step example of the actual algorithm itself."
   ]
  },
  {
   "cell_type": "code",
   "execution_count": 598,
   "metadata": {
    "collapsed": false
   },
   "outputs": [],
   "source": [
    "#set size of input, features, hidden, target\n",
    "instance_size = digits.images.shape[0]\n",
    "feature_size = digits.images.shape[1]*digits.images.shape[2]\n",
    "target_size = 10\n",
    "hidden_size = 15\n",
    "\n",
    "#make a flat 10 output with all zeros\n",
    "Y = np.zeros((instance_size,10))\n",
    "for j in range(0,instance_size):\n",
    "    Y[j][digits.target[j]] = 1\n",
    "\n",
    "#make a row of 64 input features instead of 8x8\n",
    "X = digits.images[0:instance_size].reshape(instance_size,feature_size)\n",
    "X = (X-8)/8 #normalized \n",
    "\n",
    "\n",
    "#split train and test dataset\n",
    "ix = numpy.random.permutation(instance_size)\n",
    "train_ix, test_ix = indices[:80], indices[80:]\n",
    "training, test = x[training_idx,:], x[test_idx,:]\n",
    "Y_train \n",
    "Xb = np.insert(X,0,1,axis=1) #add bias input, always activated"
   ]
  },
  {
   "cell_type": "code",
   "execution_count": 599,
   "metadata": {
    "collapsed": false
   },
   "outputs": [],
   "source": [
    "def sigmoid(w,X):\n",
    "    a = 1.0/(1.0 + np.exp(-w.dot(X.transpose())))\n",
    "    return a.transpose()\n",
    "\n",
    "def loss_func(Y,y_pred):\n",
    "    return (0.5/instance_size)*np.sum((Y-y_pred)**2) #element-wise operation then aggregate"
   ]
  },
  {
   "cell_type": "code",
   "execution_count": 600,
   "metadata": {
    "collapsed": false
   },
   "outputs": [],
   "source": [
    "#initialize the rest of the terms\n",
    "# for weights --> index = (output node , input node)\n",
    "w_hid = (np.random.rand(hidden_size,feature_size+1)-0.5) #randomized, and don't forget the bias!\n",
    "w_out = (np.random.rand(target_size,hidden_size+1)-0.5) #randomized, and don't forget the bias!\n",
    "\n",
    "#for f --> index = (data row , node)\n",
    "f_hid = np.random.rand(instance_size,hidden_size)\n",
    "f_out = np.random.rand(instance_size,target_size)\n",
    "\n",
    "#for deltas  --> index = (data row , node)\n",
    "delta_hid = np.random.rand(instance_size,hidden_size)\n",
    "delta_out = np.random.rand(instance_size,target_size)"
   ]
  },
  {
   "cell_type": "code",
   "execution_count": 601,
   "metadata": {
    "collapsed": true
   },
   "outputs": [],
   "source": [
    "#verification with dummy data\n",
    "#checking numbers from https://mattmazur.com/2015/03/17/a-step-by-step-backpropagation-example/\n",
    "#instance_size = 1\n",
    "#X = np.array([[0.05,0.1]])\n",
    "#Xb = np.array([[1, 0.05,0.1]])\n",
    "#Y = np.array([[0.01,0.99]])\n",
    "#w_hid = np.array([[0.35,0.15,0.20],[0.35,0.25,0.3]])\n",
    "#w_out = np.array([[0.60,0.40,0.45],[0.60,0.50,0.55]])\n",
    "#w_out_bef = w_out.copy()"
   ]
  },
  {
   "cell_type": "code",
   "execution_count": 602,
   "metadata": {
    "collapsed": false,
    "scrolled": false
   },
   "outputs": [
    {
     "name": "stdout",
     "output_type": "stream",
     "text": [
      "start_loss = 2.78434781239\n",
      "stop at 941\n",
      "end_loss = 0.0849270706587\n"
     ]
    },
    {
     "data": {
      "text/plain": [
       "<matplotlib.axes._subplots.AxesSubplot at 0x3933f2e8>"
      ]
     },
     "execution_count": 602,
     "metadata": {},
     "output_type": "execute_result"
    },
    {
     "data": {
      "image/png": "[encoded data removed]",
      "text/plain": [
       "<matplotlib.figure.Figure at 0x3933f278>"
      ]
     },
     "metadata": {},
     "output_type": "display_data"
    }
   ],
   "source": [
    "#run configuration\n",
    "max_epoch = 5000\n",
    "min_loss_criterion = 10**-4\n",
    "\n",
    "#doing 1st forward pass to calculate loss\n",
    "f_hid = sigmoid(w_hid,Xb)\n",
    "f_hid_b = np.insert(f_hid,0,1,axis=1) #bias activation for next layer\n",
    "f_out = sigmoid(w_out,f_hid_b)\n",
    "curr_loss = loss_func(Y,f_out)\n",
    "loss = []\n",
    "loss.append(curr_loss)\n",
    "print 'start_loss = {}'.format(curr_loss*2)\n",
    "\n",
    "learning_rate = 0.7/instance_size\n",
    "learning_rate_bias = 0.7/instance_size\n",
    "\n",
    "for i in range(0,max_epoch):\n",
    "    \n",
    "    #update the weights of output layer\n",
    "    delta_out = (f_out - Y)*(f_out)*(1-f_out) #element-wise operation \n",
    "    wgrad_out = np.einsum('ki,kj->ij', delta_out, f_hid) #dot operation already sums it up     \n",
    "    w_out_bef = w_out.copy()\n",
    "    w_out[:,1:] = w_out[:,1:] -learning_rate*(wgrad_out)\n",
    "    w_out[:,0] = w_out[:,0] -learning_rate_bias*np.sum(delta_out,axis=0)*1.0\n",
    "\n",
    "    #update the weights of hidden layer\n",
    "    delta_hid = delta_out.dot(w_out_bef[:,1:])*(f_hid)*(1-f_hid) #dot then element-wise operation      \n",
    "    wgrad_hid = np.einsum('ki,kj->ij',delta_hid,Xb[:,1:])\n",
    "    w_hid[:,1:] = w_hid[:,1:] -learning_rate*wgrad_hid\n",
    "    w_hid[:,0] = w_hid[:,0] -learning_rate_bias*np.sum(delta_hid,axis=0)*1.0\n",
    "    \n",
    "    #re-calculate loss\n",
    "    f_hid = sigmoid(w_hid,Xb)\n",
    "    f_hid_b = np.insert(f_hid,0,1,axis=1) #bias activation for next layer\n",
    "    f_out = sigmoid(w_out,f_hid_b)\n",
    "    curr_loss = loss_func(Y,f_out)\n",
    "    loss.append(curr_loss)\n",
    "\n",
    "    #stopping criterion\n",
    "    if (i>10) and ((loss[-2] - curr_loss) < min_loss_criterion): \n",
    "        print 'stop at {}'.format(i)\n",
    "        break\n",
    "\n",
    "print 'end_loss = {}'.format(loss[-1])\n",
    "        \n",
    "plt.figure()\n",
    "plt.xlabel('no. of run')\n",
    "plt.ylabel('loss function')\n",
    "sns.tsplot(loss)"
   ]
  },
  {
   "cell_type": "code",
   "execution_count": 605,
   "metadata": {
    "collapsed": false
   },
   "outputs": [
    {
     "name": "stdout",
     "output_type": "stream",
     "text": [
      "[[177   0   0   0   0   1   1   0   0   0]\n",
      " [  0 170   0   0   2   1   1   0  15   2]\n",
      " [  0   1 176   3   0   0   0   0   2   0]\n",
      " [  0   0   0 177   0   0   0   0   2   1]\n",
      " [  1   0   0   0 176   0   0   1   0   0]\n",
      " [  0   2   0   2   0 176   0   0   4   3]\n",
      " [  0   2   0   0   0   1 179   0   3   0]\n",
      " [  0   0   1   0   1   1   0 177   1   5]\n",
      " [  0   3   0   1   1   0   0   1 145   3]\n",
      " [  0   4   0   0   1   2   0   0   2 166]]\n",
      "Accuracy = 95.66%\n",
      "Actually this is not true accuracy because we didn't verify it with the test dataset.\n"
     ]
    },
    {
     "data": {
      "text/plain": [
       "<matplotlib.text.Text at 0x39b21128>"
      ]
     },
     "execution_count": 605,
     "metadata": {},
     "output_type": "execute_result"
    },
    {
     "data": {
      "image/png": "[encoded data removed]",
      "text/plain": [
       "<matplotlib.figure.Figure at 0x44caab00>"
      ]
     },
     "metadata": {},
     "output_type": "display_data"
    }
   ],
   "source": [
    "#get the prediction to compare with target\n",
    "y_pred = np.argmax(f_out,axis=1)\n",
    "\n",
    "from sklearn.metrics import confusion_matrix\n",
    "cm_mat = confusion_matrix(digits.target[0:instance_size],y_pred)\n",
    "print cm_mat.T\n",
    "accuracy = np.trace(cm_mat)*100.0/instance_size\n",
    "print 'Accuracy = {:.2f}%'.format(accuracy)\n",
    "print 'Actually this is not true accuracy because we didn\\'t verify it with the test dataset.'\n",
    "df_temp = pd.DataFrame(cm_mat.flatten()[np.newaxis].T,columns = ['values'])\n",
    "plt.figure(figsize = (6,4),dpi=600)\n",
    "sns.heatmap(cm_mat.T, cbar=True ,annot=True, fmt=',.0f')\n",
    "plt.title('Confusion Matrix')\n",
    "plt.xlabel('Truth')\n",
    "plt.ylabel('Predicted')"
   ]
  },
  {
   "cell_type": "code",
   "execution_count": null,
   "metadata": {
    "collapsed": true
   },
   "outputs": [],
   "source": []
  }
 ],
 "metadata": {
  "anaconda-cloud": {},
  "kernelspec": {
   "display_name": "Python [Root]",
   "language": "python",
   "name": "Python [Root]"
  },
  "language_info": {
   "codemirror_mode": {
    "name": "ipython",
    "version": 2
   },
   "file_extension": ".py",
   "mimetype": "text/x-python",
   "name": "python",
   "nbconvert_exporter": "python",
   "pygments_lexer": "ipython2",
   "version": "2.7.11"
  }
 },
 "nbformat": 4,
 "nbformat_minor": 0
}
